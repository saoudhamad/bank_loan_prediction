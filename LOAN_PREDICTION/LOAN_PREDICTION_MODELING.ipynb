{
  "cells": [
    {
      "cell_type": "markdown",
      "metadata": {
        "id": "xHeQt967vgym"
      },
      "source": [
        "We import the necessary packages and import the dataset"
      ]
    },
    {
      "cell_type": "code",
      "execution_count": null,
      "metadata": {
        "colab": {
          "base_uri": "https://localhost:8080/"
        },
        "id": "SaJLaA2-0oXJ",
        "outputId": "6c0bf398-eda8-4fba-befe-b733f14a2316"
      },
      "outputs": [
        {
          "name": "stdout",
          "output_type": "stream",
          "text": [
            "Drive already mounted at /content/drive; to attempt to forcibly remount, call drive.mount(\"/content/drive\", force_remount=True).\n"
          ]
        }
      ],
      "source": [
        "import pandas as pd\n",
        "import seaborn as sns\n",
        "import numpy as np\n",
        "df = pd.read_csv(\"loan prediction.csv\")"
      ]
    },
    {
      "cell_type": "code",
      "execution_count": null,
      "metadata": {
        "colab": {
          "base_uri": "https://localhost:8080/",
          "height": 206
        },
        "id": "4oDB1Fwd06WB",
        "outputId": "da88b495-b628-41fa-8802-7673b2d5a2a3"
      },
      "outputs": [
        {
          "data": {
            "text/html": [
              "\n",
              "  <div id=\"df-a86002a9-e024-4fe5-8236-35111d851edd\">\n",
              "    <div class=\"colab-df-container\">\n",
              "      <div>\n",
              "<style scoped>\n",
              "    .dataframe tbody tr th:only-of-type {\n",
              "        vertical-align: middle;\n",
              "    }\n",
              "\n",
              "    .dataframe tbody tr th {\n",
              "        vertical-align: top;\n",
              "    }\n",
              "\n",
              "    .dataframe thead th {\n",
              "        text-align: right;\n",
              "    }\n",
              "</style>\n",
              "<table border=\"1\" class=\"dataframe\">\n",
              "  <thead>\n",
              "    <tr style=\"text-align: right;\">\n",
              "      <th></th>\n",
              "      <th>Loan_ID</th>\n",
              "      <th>Gender</th>\n",
              "      <th>Married</th>\n",
              "      <th>Dependents</th>\n",
              "      <th>Education</th>\n",
              "      <th>Self_Employed</th>\n",
              "      <th>ApplicantIncome</th>\n",
              "      <th>CoapplicantIncome</th>\n",
              "      <th>LoanAmount</th>\n",
              "      <th>Loan_Amount_Term</th>\n",
              "      <th>Credit_History</th>\n",
              "      <th>Property_Area</th>\n",
              "      <th>Loan_Status</th>\n",
              "    </tr>\n",
              "  </thead>\n",
              "  <tbody>\n",
              "    <tr>\n",
              "      <th>0</th>\n",
              "      <td>LP001002</td>\n",
              "      <td>Male</td>\n",
              "      <td>No</td>\n",
              "      <td>0</td>\n",
              "      <td>Graduate</td>\n",
              "      <td>No</td>\n",
              "      <td>5849</td>\n",
              "      <td>0.0</td>\n",
              "      <td>NaN</td>\n",
              "      <td>360.0</td>\n",
              "      <td>1.0</td>\n",
              "      <td>Urban</td>\n",
              "      <td>Y</td>\n",
              "    </tr>\n",
              "    <tr>\n",
              "      <th>1</th>\n",
              "      <td>LP001003</td>\n",
              "      <td>Male</td>\n",
              "      <td>Yes</td>\n",
              "      <td>1</td>\n",
              "      <td>Graduate</td>\n",
              "      <td>No</td>\n",
              "      <td>4583</td>\n",
              "      <td>1508.0</td>\n",
              "      <td>128.0</td>\n",
              "      <td>360.0</td>\n",
              "      <td>1.0</td>\n",
              "      <td>Rural</td>\n",
              "      <td>N</td>\n",
              "    </tr>\n",
              "    <tr>\n",
              "      <th>2</th>\n",
              "      <td>LP001005</td>\n",
              "      <td>Male</td>\n",
              "      <td>Yes</td>\n",
              "      <td>0</td>\n",
              "      <td>Graduate</td>\n",
              "      <td>Yes</td>\n",
              "      <td>3000</td>\n",
              "      <td>0.0</td>\n",
              "      <td>66.0</td>\n",
              "      <td>360.0</td>\n",
              "      <td>1.0</td>\n",
              "      <td>Urban</td>\n",
              "      <td>Y</td>\n",
              "    </tr>\n",
              "    <tr>\n",
              "      <th>3</th>\n",
              "      <td>LP001006</td>\n",
              "      <td>Male</td>\n",
              "      <td>Yes</td>\n",
              "      <td>0</td>\n",
              "      <td>Not Graduate</td>\n",
              "      <td>No</td>\n",
              "      <td>2583</td>\n",
              "      <td>2358.0</td>\n",
              "      <td>120.0</td>\n",
              "      <td>360.0</td>\n",
              "      <td>1.0</td>\n",
              "      <td>Urban</td>\n",
              "      <td>Y</td>\n",
              "    </tr>\n",
              "    <tr>\n",
              "      <th>4</th>\n",
              "      <td>LP001008</td>\n",
              "      <td>Male</td>\n",
              "      <td>No</td>\n",
              "      <td>0</td>\n",
              "      <td>Graduate</td>\n",
              "      <td>No</td>\n",
              "      <td>6000</td>\n",
              "      <td>0.0</td>\n",
              "      <td>141.0</td>\n",
              "      <td>360.0</td>\n",
              "      <td>1.0</td>\n",
              "      <td>Urban</td>\n",
              "      <td>Y</td>\n",
              "    </tr>\n",
              "  </tbody>\n",
              "</table>\n",
              "</div>\n",
              "      <button class=\"colab-df-convert\" onclick=\"convertToInteractive('df-a86002a9-e024-4fe5-8236-35111d851edd')\"\n",
              "              title=\"Convert this dataframe to an interactive table.\"\n",
              "              style=\"display:none;\">\n",
              "        \n",
              "  <svg xmlns=\"http://www.w3.org/2000/svg\" height=\"24px\"viewBox=\"0 0 24 24\"\n",
              "       width=\"24px\">\n",
              "    <path d=\"M0 0h24v24H0V0z\" fill=\"none\"/>\n",
              "    <path d=\"M18.56 5.44l.94 2.06.94-2.06 2.06-.94-2.06-.94-.94-2.06-.94 2.06-2.06.94zm-11 1L8.5 8.5l.94-2.06 2.06-.94-2.06-.94L8.5 2.5l-.94 2.06-2.06.94zm10 10l.94 2.06.94-2.06 2.06-.94-2.06-.94-.94-2.06-.94 2.06-2.06.94z\"/><path d=\"M17.41 7.96l-1.37-1.37c-.4-.4-.92-.59-1.43-.59-.52 0-1.04.2-1.43.59L10.3 9.45l-7.72 7.72c-.78.78-.78 2.05 0 2.83L4 21.41c.39.39.9.59 1.41.59.51 0 1.02-.2 1.41-.59l7.78-7.78 2.81-2.81c.8-.78.8-2.07 0-2.86zM5.41 20L4 18.59l7.72-7.72 1.47 1.35L5.41 20z\"/>\n",
              "  </svg>\n",
              "      </button>\n",
              "      \n",
              "  <style>\n",
              "    .colab-df-container {\n",
              "      display:flex;\n",
              "      flex-wrap:wrap;\n",
              "      gap: 12px;\n",
              "    }\n",
              "\n",
              "    .colab-df-convert {\n",
              "      background-color: #E8F0FE;\n",
              "      border: none;\n",
              "      border-radius: 50%;\n",
              "      cursor: pointer;\n",
              "      display: none;\n",
              "      fill: #1967D2;\n",
              "      height: 32px;\n",
              "      padding: 0 0 0 0;\n",
              "      width: 32px;\n",
              "    }\n",
              "\n",
              "    .colab-df-convert:hover {\n",
              "      background-color: #E2EBFA;\n",
              "      box-shadow: 0px 1px 2px rgba(60, 64, 67, 0.3), 0px 1px 3px 1px rgba(60, 64, 67, 0.15);\n",
              "      fill: #174EA6;\n",
              "    }\n",
              "\n",
              "    [theme=dark] .colab-df-convert {\n",
              "      background-color: #3B4455;\n",
              "      fill: #D2E3FC;\n",
              "    }\n",
              "\n",
              "    [theme=dark] .colab-df-convert:hover {\n",
              "      background-color: #434B5C;\n",
              "      box-shadow: 0px 1px 3px 1px rgba(0, 0, 0, 0.15);\n",
              "      filter: drop-shadow(0px 1px 2px rgba(0, 0, 0, 0.3));\n",
              "      fill: #FFFFFF;\n",
              "    }\n",
              "  </style>\n",
              "\n",
              "      <script>\n",
              "        const buttonEl =\n",
              "          document.querySelector('#df-a86002a9-e024-4fe5-8236-35111d851edd button.colab-df-convert');\n",
              "        buttonEl.style.display =\n",
              "          google.colab.kernel.accessAllowed ? 'block' : 'none';\n",
              "\n",
              "        async function convertToInteractive(key) {\n",
              "          const element = document.querySelector('#df-a86002a9-e024-4fe5-8236-35111d851edd');\n",
              "          const dataTable =\n",
              "            await google.colab.kernel.invokeFunction('convertToInteractive',\n",
              "                                                     [key], {});\n",
              "          if (!dataTable) return;\n",
              "\n",
              "          const docLinkHtml = 'Like what you see? Visit the ' +\n",
              "            '<a target=\"_blank\" href=https://colab.research.google.com/notebooks/data_table.ipynb>data table notebook</a>'\n",
              "            + ' to learn more about interactive tables.';\n",
              "          element.innerHTML = '';\n",
              "          dataTable['output_type'] = 'display_data';\n",
              "          await google.colab.output.renderOutput(dataTable, element);\n",
              "          const docLink = document.createElement('div');\n",
              "          docLink.innerHTML = docLinkHtml;\n",
              "          element.appendChild(docLink);\n",
              "        }\n",
              "      </script>\n",
              "    </div>\n",
              "  </div>\n",
              "  "
            ],
            "text/plain": [
              "    Loan_ID Gender Married Dependents     Education Self_Employed  \\\n",
              "0  LP001002   Male      No          0      Graduate            No   \n",
              "1  LP001003   Male     Yes          1      Graduate            No   \n",
              "2  LP001005   Male     Yes          0      Graduate           Yes   \n",
              "3  LP001006   Male     Yes          0  Not Graduate            No   \n",
              "4  LP001008   Male      No          0      Graduate            No   \n",
              "\n",
              "   ApplicantIncome  CoapplicantIncome  LoanAmount  Loan_Amount_Term  \\\n",
              "0             5849                0.0         NaN             360.0   \n",
              "1             4583             1508.0       128.0             360.0   \n",
              "2             3000                0.0        66.0             360.0   \n",
              "3             2583             2358.0       120.0             360.0   \n",
              "4             6000                0.0       141.0             360.0   \n",
              "\n",
              "   Credit_History Property_Area Loan_Status  \n",
              "0             1.0         Urban           Y  \n",
              "1             1.0         Rural           N  \n",
              "2             1.0         Urban           Y  \n",
              "3             1.0         Urban           Y  \n",
              "4             1.0         Urban           Y  "
            ]
          },
          "execution_count": 39,
          "metadata": {},
          "output_type": "execute_result"
        }
      ],
      "source": [
        "df.head()"
      ]
    },
    {
      "cell_type": "code",
      "execution_count": null,
      "metadata": {
        "colab": {
          "base_uri": "https://localhost:8080/"
        },
        "id": "S41Xf8rZ083S",
        "outputId": "f6923c4f-074a-4d71-8b35-d157fcd9a9b0"
      },
      "outputs": [
        {
          "data": {
            "text/plain": [
              "(614, 13)"
            ]
          },
          "execution_count": 40,
          "metadata": {},
          "output_type": "execute_result"
        }
      ],
      "source": [
        "df.shape"
      ]
    },
    {
      "cell_type": "markdown",
      "metadata": {
        "id": "ZGCkZTeivrgZ"
      },
      "source": [
        "Our dataset contains 13 columns and 614 rows\n",
        "\n",
        "*   Loan_ID: It's the unique ID of a loan applicant\n",
        "*   Gender: The gender of the applicant\n",
        "*   Married: The martial status of the applicant\n",
        "*   Dependents: The number of applicant's dependents\n",
        "*   Education: The level of education of the applicant\n",
        "*   Self_Emplyoed: Flag indicating whether the applicant is self-employed or not\n",
        "*   ApplicantIncome: Income of the applicant\n",
        "*   CoapplicantIncome: Income of the co-applicant\n",
        "*   LoanAmount: Amount asked by the loan\n",
        "*   LoanMaountTerm: Duration of the loan\n",
        "*   Credit_History: Flag indicating if\n",
        "an applicant has ever had a loan or not\n",
        "*   Property_Area: Area of primary residency\n",
        " of the applicant\n",
        "*   Loan_Status: Target variable indicating whether the loan was given to the applicant or not"
      ]
    },
    {
      "cell_type": "markdown",
      "metadata": {
        "id": "ejbjZbm3x2OK"
      },
      "source": [
        "The goal of this project is to predict the loan status based on the applicants variables."
      ]
    },
    {
      "cell_type": "code",
      "execution_count": null,
      "metadata": {
        "colab": {
          "base_uri": "https://localhost:8080/"
        },
        "id": "Zfvp0OWv0-6X",
        "outputId": "e53dd258-6234-4950-9c76-fc15bc827edb"
      },
      "outputs": [
        {
          "name": "stdout",
          "output_type": "stream",
          "text": [
            "<class 'pandas.core.frame.DataFrame'>\n",
            "RangeIndex: 614 entries, 0 to 613\n",
            "Data columns (total 13 columns):\n",
            " #   Column             Non-Null Count  Dtype  \n",
            "---  ------             --------------  -----  \n",
            " 0   Loan_ID            614 non-null    object \n",
            " 1   Gender             601 non-null    object \n",
            " 2   Married            611 non-null    object \n",
            " 3   Dependents         599 non-null    object \n",
            " 4   Education          614 non-null    object \n",
            " 5   Self_Employed      582 non-null    object \n",
            " 6   ApplicantIncome    614 non-null    int64  \n",
            " 7   CoapplicantIncome  614 non-null    float64\n",
            " 8   LoanAmount         592 non-null    float64\n",
            " 9   Loan_Amount_Term   600 non-null    float64\n",
            " 10  Credit_History     564 non-null    float64\n",
            " 11  Property_Area      614 non-null    object \n",
            " 12  Loan_Status        614 non-null    object \n",
            "dtypes: float64(4), int64(1), object(8)\n",
            "memory usage: 62.5+ KB\n"
          ]
        }
      ],
      "source": [
        "df.info()"
      ]
    },
    {
      "cell_type": "code",
      "execution_count": null,
      "metadata": {
        "colab": {
          "base_uri": "https://localhost:8080/"
        },
        "id": "HvNyVTDP1KqB",
        "outputId": "16431335-acf0-4bac-b631-6e571393c630"
      },
      "outputs": [
        {
          "data": {
            "text/plain": [
              "Loan_ID               0\n",
              "Gender               13\n",
              "Married               3\n",
              "Dependents           15\n",
              "Education             0\n",
              "Self_Employed        32\n",
              "ApplicantIncome       0\n",
              "CoapplicantIncome     0\n",
              "LoanAmount           22\n",
              "Loan_Amount_Term     14\n",
              "Credit_History       50\n",
              "Property_Area         0\n",
              "Loan_Status           0\n",
              "dtype: int64"
            ]
          },
          "execution_count": 42,
          "metadata": {},
          "output_type": "execute_result"
        }
      ],
      "source": [
        "df.isnull().sum()"
      ]
    },
    {
      "cell_type": "markdown",
      "metadata": {
        "id": "Mur41KOjAIzt"
      },
      "source": [
        "### Data Viz and Analysis"
      ]
    },
    {
      "cell_type": "markdown",
      "metadata": {
        "id": "s_fyV9corMEW"
      },
      "source": [
        "We print bargraphs to visualize the frequency of categorical variables per Loan_Status(Target variables). This to help us understand the relationship between certain variables and the target variables"
      ]
    },
    {
      "cell_type": "code",
      "execution_count": null,
      "metadata": {
        "colab": {
          "base_uri": "https://localhost:8080/",
          "height": 1000
        },
        "id": "UTaNGY73R3T6",
        "outputId": "58c34f59-3cc6-45bb-8ce6-012946393e5d"
      },
      "outputs": [
        {
          "data": {
            "image/png": "[encoded data removed]",
            "text/plain": [
              "<Figure size 1200x1500 with 6 Axes>"
            ]
          },
          "metadata": {},
          "output_type": "display_data"
        }
      ],
      "source": [
        "import seaborn as sns\n",
        "import matplotlib.pyplot as plt\n",
        "\n",
        "df.set_index('Loan_ID', inplace = True)\n",
        "categorical_cols = df.select_dtypes(include=['object', 'category']).columns\n",
        "categorical_cols = categorical_cols.drop('Loan_Status')\n",
        "fig,axes = plt.subplots(3,2,figsize=(12,15))\n",
        "for idx, cat_col in enumerate(categorical_cols):\n",
        "    row,col = idx//2,idx%2\n",
        "    sns.countplot(x=cat_col,data=df,hue='Loan_Status',ax=axes[row,col])\n",
        "\n",
        "\n",
        "plt.subplots_adjust(hspace=1)"
      ]
    },
    {
      "cell_type": "markdown",
      "metadata": {
        "id": "OYAI6uFSrxNl"
      },
      "source": [
        "The following bargraphs help us visualize the frequency of all the variables in the dataset. The goal is to identify different classes and potential outliers"
      ]
    },
    {
      "cell_type": "code",
      "execution_count": null,
      "metadata": {
        "colab": {
          "base_uri": "https://localhost:8080/",
          "height": 483
        },
        "id": "kCqfFaPN2HIB",
        "outputId": "2f19f8f9-f648-4e85-9c69-2a0ab19d997c"
      },
      "outputs": [
        {
          "data": {
            "text/plain": [
              "<Axes: >"
            ]
          },
          "execution_count": 44,
          "metadata": {},
          "output_type": "execute_result"
        },
        {
          "data": {
            "image/png": "[encoded data removed]",
            "text/plain": [
              "<Figure size 640x480 with 1 Axes>"
            ]
          },
          "metadata": {},
          "output_type": "display_data"
        }
      ],
      "source": [
        "df['Gender'].value_counts().plot(kind='bar')"
      ]
    },
    {
      "cell_type": "code",
      "execution_count": null,
      "metadata": {
        "colab": {
          "base_uri": "https://localhost:8080/",
          "height": 455
        },
        "id": "loMLCtuA2Ipv",
        "outputId": "dc499ea5-788c-4fbb-bea4-6710f07f55e4"
      },
      "outputs": [
        {
          "data": {
            "text/plain": [
              "<Axes: >"
            ]
          },
          "execution_count": 45,
          "metadata": {},
          "output_type": "execute_result"
        },
        {
          "data": {
            "image/png": "[encoded data removed]",
            "text/plain": [
              "<Figure size 640x480 with 1 Axes>"
            ]
          },
          "metadata": {},
          "output_type": "display_data"
        }
      ],
      "source": [
        "df['Married'].value_counts().plot(kind='bar')"
      ]
    },
    {
      "cell_type": "code",
      "execution_count": null,
      "metadata": {
        "colab": {
          "base_uri": "https://localhost:8080/",
          "height": 453
        },
        "id": "V30zs1qa2N6G",
        "outputId": "58e4c9e1-da1e-4e97-b857-3c69a2980048"
      },
      "outputs": [
        {
          "data": {
            "text/plain": [
              "<Axes: >"
            ]
          },
          "execution_count": 46,
          "metadata": {},
          "output_type": "execute_result"
        },
        {
          "data": {
            "image/png": "[encoded data removed]",
            "text/plain": [
              "<Figure size 640x480 with 1 Axes>"
            ]
          },
          "metadata": {},
          "output_type": "display_data"
        }
      ],
      "source": [
        "df['Dependents'].value_counts().plot(kind='bar')"
      ]
    },
    {
      "cell_type": "code",
      "execution_count": null,
      "metadata": {
        "colab": {
          "base_uri": "https://localhost:8080/",
          "height": 455
        },
        "id": "dRbl4goT2W3Q",
        "outputId": "96ec7579-8142-4d4f-c336-1731c59f9570"
      },
      "outputs": [
        {
          "data": {
            "text/plain": [
              "<Axes: >"
            ]
          },
          "execution_count": 47,
          "metadata": {},
          "output_type": "execute_result"
        },
        {
          "data": {
            "image/png": "[encoded data removed]",
            "text/plain": [
              "<Figure size 640x480 with 1 Axes>"
            ]
          },
          "metadata": {},
          "output_type": "display_data"
        }
      ],
      "source": [
        "df['Self_Employed'].value_counts().plot(kind='bar')"
      ]
    },
    {
      "cell_type": "code",
      "execution_count": null,
      "metadata": {
        "colab": {
          "base_uri": "https://localhost:8080/",
          "height": 447
        },
        "id": "0gnC5qGZGAeq",
        "outputId": "e50f4a5a-437f-42b8-d62e-be42aedb1d67"
      },
      "outputs": [
        {
          "data": {
            "text/plain": [
              "<Axes: ylabel='Frequency'>"
            ]
          },
          "execution_count": 48,
          "metadata": {},
          "output_type": "execute_result"
        },
        {
          "data": {
            "image/png": "[encoded data removed]",
            "text/plain": [
              "<Figure size 640x480 with 1 Axes>"
            ]
          },
          "metadata": {},
          "output_type": "display_data"
        }
      ],
      "source": [
        "df['ApplicantIncome'].plot.hist(bins=12, alpha=0.5)"
      ]
    },
    {
      "cell_type": "code",
      "execution_count": null,
      "metadata": {
        "colab": {
          "base_uri": "https://localhost:8080/",
          "height": 447
        },
        "id": "n4j5Tb032j7m",
        "outputId": "3747b10f-ff4a-4b8b-9be7-1745b7bcc778"
      },
      "outputs": [
        {
          "data": {
            "text/plain": [
              "<Axes: ylabel='Frequency'>"
            ]
          },
          "execution_count": 49,
          "metadata": {},
          "output_type": "execute_result"
        },
        {
          "data": {
            "image/png": "[encoded data removed]",
            "text/plain": [
              "<Figure size 640x480 with 1 Axes>"
            ]
          },
          "metadata": {},
          "output_type": "display_data"
        }
      ],
      "source": [
        "df['LoanAmount'].plot.hist(bins=12, alpha=0.5)"
      ]
    },
    {
      "cell_type": "code",
      "execution_count": null,
      "metadata": {
        "colab": {
          "base_uri": "https://localhost:8080/",
          "height": 472
        },
        "id": "rp92wNsZ3VfJ",
        "outputId": "510359c1-6f21-4ed5-84a3-9359220976a0"
      },
      "outputs": [
        {
          "data": {
            "text/plain": [
              "<Axes: >"
            ]
          },
          "execution_count": 50,
          "metadata": {},
          "output_type": "execute_result"
        },
        {
          "data": {
            "image/png": "[encoded data removed]",
            "text/plain": [
              "<Figure size 640x480 with 1 Axes>"
            ]
          },
          "metadata": {},
          "output_type": "display_data"
        }
      ],
      "source": [
        "df['Loan_Amount_Term'].value_counts().plot(kind='bar')"
      ]
    },
    {
      "cell_type": "code",
      "execution_count": null,
      "metadata": {
        "colab": {
          "base_uri": "https://localhost:8080/",
          "height": 455
        },
        "id": "x92tJWo_4bt0",
        "outputId": "9c87685c-cb1b-4a67-c860-b31d3ae3f29e"
      },
      "outputs": [
        {
          "data": {
            "text/plain": [
              "<Axes: >"
            ]
          },
          "execution_count": 51,
          "metadata": {},
          "output_type": "execute_result"
        },
        {
          "data": {
            "image/png": "[encoded data removed]",
            "text/plain": [
              "<Figure size 640x480 with 1 Axes>"
            ]
          },
          "metadata": {},
          "output_type": "display_data"
        }
      ],
      "source": [
        "df['Credit_History'].value_counts().plot(kind='bar')"
      ]
    },
    {
      "cell_type": "code",
      "execution_count": null,
      "metadata": {
        "colab": {
          "base_uri": "https://localhost:8080/",
          "height": 508
        },
        "id": "e9QXO0v349Yz",
        "outputId": "ca38fb5b-77e3-4429-d813-1f1cab1fca71"
      },
      "outputs": [
        {
          "data": {
            "text/plain": [
              "<Axes: >"
            ]
          },
          "execution_count": 52,
          "metadata": {},
          "output_type": "execute_result"
        },
        {
          "data": {
            "image/png": "[encoded data removed]",
            "text/plain": [
              "<Figure size 640x480 with 1 Axes>"
            ]
          },
          "metadata": {},
          "output_type": "display_data"
        }
      ],
      "source": [
        "df['Property_Area'].value_counts().plot(kind='bar')"
      ]
    },
    {
      "cell_type": "code",
      "execution_count": null,
      "metadata": {
        "colab": {
          "base_uri": "https://localhost:8080/",
          "height": 443
        },
        "id": "ELtvCtDB5Hyz",
        "outputId": "6c453d39-5f5e-4dae-cafe-38059f0caac9"
      },
      "outputs": [
        {
          "data": {
            "text/plain": [
              "<Axes: >"
            ]
          },
          "execution_count": 53,
          "metadata": {},
          "output_type": "execute_result"
        },
        {
          "data": {
            "image/png": "[encoded data removed]",
            "text/plain": [
              "<Figure size 640x480 with 1 Axes>"
            ]
          },
          "metadata": {},
          "output_type": "display_data"
        }
      ],
      "source": [
        "df['Loan_Status'].value_counts().plot(kind='bar')"
      ]
    },
    {
      "cell_type": "markdown",
      "metadata": {
        "id": "ONqt-6tQ0pCz"
      },
      "source": [
        "### Outliers"
      ]
    },
    {
      "cell_type": "markdown",
      "metadata": {
        "id": "YxQR2s4eynlp"
      },
      "source": [
        "We notice that the columns LoanAmount and ApplicantIncome have skewed distribution and they have some outliers."
      ]
    },
    {
      "cell_type": "markdown",
      "metadata": {
        "id": "QZkJyk4PzUfe"
      },
      "source": [
        "We need to check these outliers to understand if they should be removed or not"
      ]
    },
    {
      "cell_type": "code",
      "execution_count": null,
      "metadata": {
        "colab": {
          "base_uri": "https://localhost:8080/",
          "height": 457
        },
        "id": "PXWFcAety83R",
        "outputId": "1553d140-7407-4573-e42e-e3cc5fca1a51"
      },
      "outputs": [
        {
          "data": {
            "text/html": [
              "\n",
              "  <div id=\"df-73443375-a456-46c1-85a4-d4ad5c8ec9f9\">\n",
              "    <div class=\"colab-df-container\">\n",
              "      <div>\n",
              "<style scoped>\n",
              "    .dataframe tbody tr th:only-of-type {\n",
              "        vertical-align: middle;\n",
              "    }\n",
              "\n",
              "    .dataframe tbody tr th {\n",
              "        vertical-align: top;\n",
              "    }\n",
              "\n",
              "    .dataframe thead th {\n",
              "        text-align: right;\n",
              "    }\n",
              "</style>\n",
              "<table border=\"1\" class=\"dataframe\">\n",
              "  <thead>\n",
              "    <tr style=\"text-align: right;\">\n",
              "      <th></th>\n",
              "      <th>Gender</th>\n",
              "      <th>Married</th>\n",
              "      <th>Dependents</th>\n",
              "      <th>Education</th>\n",
              "      <th>Self_Employed</th>\n",
              "      <th>ApplicantIncome</th>\n",
              "      <th>CoapplicantIncome</th>\n",
              "      <th>LoanAmount</th>\n",
              "      <th>Loan_Amount_Term</th>\n",
              "      <th>Credit_History</th>\n",
              "      <th>Property_Area</th>\n",
              "      <th>Loan_Status</th>\n",
              "    </tr>\n",
              "    <tr>\n",
              "      <th>Loan_ID</th>\n",
              "      <th></th>\n",
              "      <th></th>\n",
              "      <th></th>\n",
              "      <th></th>\n",
              "      <th></th>\n",
              "      <th></th>\n",
              "      <th></th>\n",
              "      <th></th>\n",
              "      <th></th>\n",
              "      <th></th>\n",
              "      <th></th>\n",
              "      <th></th>\n",
              "    </tr>\n",
              "  </thead>\n",
              "  <tbody>\n",
              "    <tr>\n",
              "      <th>LP001448</th>\n",
              "      <td>NaN</td>\n",
              "      <td>Yes</td>\n",
              "      <td>3+</td>\n",
              "      <td>Graduate</td>\n",
              "      <td>No</td>\n",
              "      <td>23803</td>\n",
              "      <td>0.0</td>\n",
              "      <td>370.0</td>\n",
              "      <td>360.0</td>\n",
              "      <td>1.0</td>\n",
              "      <td>Rural</td>\n",
              "      <td>Y</td>\n",
              "    </tr>\n",
              "    <tr>\n",
              "      <th>LP001469</th>\n",
              "      <td>Male</td>\n",
              "      <td>No</td>\n",
              "      <td>0</td>\n",
              "      <td>Graduate</td>\n",
              "      <td>Yes</td>\n",
              "      <td>20166</td>\n",
              "      <td>0.0</td>\n",
              "      <td>650.0</td>\n",
              "      <td>480.0</td>\n",
              "      <td>NaN</td>\n",
              "      <td>Urban</td>\n",
              "      <td>Y</td>\n",
              "    </tr>\n",
              "    <tr>\n",
              "      <th>LP001536</th>\n",
              "      <td>Male</td>\n",
              "      <td>Yes</td>\n",
              "      <td>3+</td>\n",
              "      <td>Graduate</td>\n",
              "      <td>No</td>\n",
              "      <td>39999</td>\n",
              "      <td>0.0</td>\n",
              "      <td>600.0</td>\n",
              "      <td>180.0</td>\n",
              "      <td>0.0</td>\n",
              "      <td>Semiurban</td>\n",
              "      <td>Y</td>\n",
              "    </tr>\n",
              "    <tr>\n",
              "      <th>LP001585</th>\n",
              "      <td>NaN</td>\n",
              "      <td>Yes</td>\n",
              "      <td>3+</td>\n",
              "      <td>Graduate</td>\n",
              "      <td>No</td>\n",
              "      <td>51763</td>\n",
              "      <td>0.0</td>\n",
              "      <td>700.0</td>\n",
              "      <td>300.0</td>\n",
              "      <td>1.0</td>\n",
              "      <td>Urban</td>\n",
              "      <td>Y</td>\n",
              "    </tr>\n",
              "    <tr>\n",
              "      <th>LP001637</th>\n",
              "      <td>Male</td>\n",
              "      <td>Yes</td>\n",
              "      <td>1</td>\n",
              "      <td>Graduate</td>\n",
              "      <td>No</td>\n",
              "      <td>33846</td>\n",
              "      <td>0.0</td>\n",
              "      <td>260.0</td>\n",
              "      <td>360.0</td>\n",
              "      <td>1.0</td>\n",
              "      <td>Semiurban</td>\n",
              "      <td>N</td>\n",
              "    </tr>\n",
              "    <tr>\n",
              "      <th>LP001640</th>\n",
              "      <td>Male</td>\n",
              "      <td>Yes</td>\n",
              "      <td>0</td>\n",
              "      <td>Graduate</td>\n",
              "      <td>Yes</td>\n",
              "      <td>39147</td>\n",
              "      <td>4750.0</td>\n",
              "      <td>120.0</td>\n",
              "      <td>360.0</td>\n",
              "      <td>1.0</td>\n",
              "      <td>Semiurban</td>\n",
              "      <td>Y</td>\n",
              "    </tr>\n",
              "    <tr>\n",
              "      <th>LP001922</th>\n",
              "      <td>Male</td>\n",
              "      <td>Yes</td>\n",
              "      <td>0</td>\n",
              "      <td>Graduate</td>\n",
              "      <td>No</td>\n",
              "      <td>20667</td>\n",
              "      <td>0.0</td>\n",
              "      <td>NaN</td>\n",
              "      <td>360.0</td>\n",
              "      <td>1.0</td>\n",
              "      <td>Rural</td>\n",
              "      <td>N</td>\n",
              "    </tr>\n",
              "    <tr>\n",
              "      <th>LP001996</th>\n",
              "      <td>Male</td>\n",
              "      <td>No</td>\n",
              "      <td>0</td>\n",
              "      <td>Graduate</td>\n",
              "      <td>No</td>\n",
              "      <td>20233</td>\n",
              "      <td>0.0</td>\n",
              "      <td>480.0</td>\n",
              "      <td>360.0</td>\n",
              "      <td>1.0</td>\n",
              "      <td>Rural</td>\n",
              "      <td>N</td>\n",
              "    </tr>\n",
              "    <tr>\n",
              "      <th>LP002101</th>\n",
              "      <td>Male</td>\n",
              "      <td>Yes</td>\n",
              "      <td>0</td>\n",
              "      <td>Graduate</td>\n",
              "      <td>NaN</td>\n",
              "      <td>63337</td>\n",
              "      <td>0.0</td>\n",
              "      <td>490.0</td>\n",
              "      <td>180.0</td>\n",
              "      <td>1.0</td>\n",
              "      <td>Urban</td>\n",
              "      <td>Y</td>\n",
              "    </tr>\n",
              "    <tr>\n",
              "      <th>LP002317</th>\n",
              "      <td>Male</td>\n",
              "      <td>Yes</td>\n",
              "      <td>3+</td>\n",
              "      <td>Graduate</td>\n",
              "      <td>No</td>\n",
              "      <td>81000</td>\n",
              "      <td>0.0</td>\n",
              "      <td>360.0</td>\n",
              "      <td>360.0</td>\n",
              "      <td>0.0</td>\n",
              "      <td>Rural</td>\n",
              "      <td>N</td>\n",
              "    </tr>\n",
              "    <tr>\n",
              "      <th>LP002422</th>\n",
              "      <td>Male</td>\n",
              "      <td>No</td>\n",
              "      <td>1</td>\n",
              "      <td>Graduate</td>\n",
              "      <td>No</td>\n",
              "      <td>37719</td>\n",
              "      <td>0.0</td>\n",
              "      <td>152.0</td>\n",
              "      <td>360.0</td>\n",
              "      <td>1.0</td>\n",
              "      <td>Semiurban</td>\n",
              "      <td>Y</td>\n",
              "    </tr>\n",
              "    <tr>\n",
              "      <th>LP002624</th>\n",
              "      <td>Male</td>\n",
              "      <td>Yes</td>\n",
              "      <td>0</td>\n",
              "      <td>Graduate</td>\n",
              "      <td>No</td>\n",
              "      <td>20833</td>\n",
              "      <td>6667.0</td>\n",
              "      <td>480.0</td>\n",
              "      <td>360.0</td>\n",
              "      <td>NaN</td>\n",
              "      <td>Urban</td>\n",
              "      <td>Y</td>\n",
              "    </tr>\n",
              "  </tbody>\n",
              "</table>\n",
              "</div>\n",
              "      <button class=\"colab-df-convert\" onclick=\"convertToInteractive('df-73443375-a456-46c1-85a4-d4ad5c8ec9f9')\"\n",
              "              title=\"Convert this dataframe to an interactive table.\"\n",
              "              style=\"display:none;\">\n",
              "        \n",
              "  <svg xmlns=\"http://www.w3.org/2000/svg\" height=\"24px\"viewBox=\"0 0 24 24\"\n",
              "       width=\"24px\">\n",
              "    <path d=\"M0 0h24v24H0V0z\" fill=\"none\"/>\n",
              "    <path d=\"M18.56 5.44l.94 2.06.94-2.06 2.06-.94-2.06-.94-.94-2.06-.94 2.06-2.06.94zm-11 1L8.5 8.5l.94-2.06 2.06-.94-2.06-.94L8.5 2.5l-.94 2.06-2.06.94zm10 10l.94 2.06.94-2.06 2.06-.94-2.06-.94-.94-2.06-.94 2.06-2.06.94z\"/><path d=\"M17.41 7.96l-1.37-1.37c-.4-.4-.92-.59-1.43-.59-.52 0-1.04.2-1.43.59L10.3 9.45l-7.72 7.72c-.78.78-.78 2.05 0 2.83L4 21.41c.39.39.9.59 1.41.59.51 0 1.02-.2 1.41-.59l7.78-7.78 2.81-2.81c.8-.78.8-2.07 0-2.86zM5.41 20L4 18.59l7.72-7.72 1.47 1.35L5.41 20z\"/>\n",
              "  </svg>\n",
              "      </button>\n",
              "      \n",
              "  <style>\n",
              "    .colab-df-container {\n",
              "      display:flex;\n",
              "      flex-wrap:wrap;\n",
              "      gap: 12px;\n",
              "    }\n",
              "\n",
              "    .colab-df-convert {\n",
              "      background-color: #E8F0FE;\n",
              "      border: none;\n",
              "      border-radius: 50%;\n",
              "      cursor: pointer;\n",
              "      display: none;\n",
              "      fill: #1967D2;\n",
              "      height: 32px;\n",
              "      padding: 0 0 0 0;\n",
              "      width: 32px;\n",
              "    }\n",
              "\n",
              "    .colab-df-convert:hover {\n",
              "      background-color: #E2EBFA;\n",
              "      box-shadow: 0px 1px 2px rgba(60, 64, 67, 0.3), 0px 1px 3px 1px rgba(60, 64, 67, 0.15);\n",
              "      fill: #174EA6;\n",
              "    }\n",
              "\n",
              "    [theme=dark] .colab-df-convert {\n",
              "      background-color: #3B4455;\n",
              "      fill: #D2E3FC;\n",
              "    }\n",
              "\n",
              "    [theme=dark] .colab-df-convert:hover {\n",
              "      background-color: #434B5C;\n",
              "      box-shadow: 0px 1px 3px 1px rgba(0, 0, 0, 0.15);\n",
              "      filter: drop-shadow(0px 1px 2px rgba(0, 0, 0, 0.3));\n",
              "      fill: #FFFFFF;\n",
              "    }\n",
              "  </style>\n",
              "\n",
              "      <script>\n",
              "        const buttonEl =\n",
              "          document.querySelector('#df-73443375-a456-46c1-85a4-d4ad5c8ec9f9 button.colab-df-convert');\n",
              "        buttonEl.style.display =\n",
              "          google.colab.kernel.accessAllowed ? 'block' : 'none';\n",
              "\n",
              "        async function convertToInteractive(key) {\n",
              "          const element = document.querySelector('#df-73443375-a456-46c1-85a4-d4ad5c8ec9f9');\n",
              "          const dataTable =\n",
              "            await google.colab.kernel.invokeFunction('convertToInteractive',\n",
              "                                                     [key], {});\n",
              "          if (!dataTable) return;\n",
              "\n",
              "          const docLinkHtml = 'Like what you see? Visit the ' +\n",
              "            '<a target=\"_blank\" href=https://colab.research.google.com/notebooks/data_table.ipynb>data table notebook</a>'\n",
              "            + ' to learn more about interactive tables.';\n",
              "          element.innerHTML = '';\n",
              "          dataTable['output_type'] = 'display_data';\n",
              "          await google.colab.output.renderOutput(dataTable, element);\n",
              "          const docLink = document.createElement('div');\n",
              "          docLink.innerHTML = docLinkHtml;\n",
              "          element.appendChild(docLink);\n",
              "        }\n",
              "      </script>\n",
              "    </div>\n",
              "  </div>\n",
              "  "
            ],
            "text/plain": [
              "         Gender Married Dependents Education Self_Employed  ApplicantIncome  \\\n",
              "Loan_ID                                                                       \n",
              "LP001448    NaN     Yes         3+  Graduate            No            23803   \n",
              "LP001469   Male      No          0  Graduate           Yes            20166   \n",
              "LP001536   Male     Yes         3+  Graduate            No            39999   \n",
              "LP001585    NaN     Yes         3+  Graduate            No            51763   \n",
              "LP001637   Male     Yes          1  Graduate            No            33846   \n",
              "LP001640   Male     Yes          0  Graduate           Yes            39147   \n",
              "LP001922   Male     Yes          0  Graduate            No            20667   \n",
              "LP001996   Male      No          0  Graduate            No            20233   \n",
              "LP002101   Male     Yes          0  Graduate           NaN            63337   \n",
              "LP002317   Male     Yes         3+  Graduate            No            81000   \n",
              "LP002422   Male      No          1  Graduate            No            37719   \n",
              "LP002624   Male     Yes          0  Graduate            No            20833   \n",
              "\n",
              "          CoapplicantIncome  LoanAmount  Loan_Amount_Term  Credit_History  \\\n",
              "Loan_ID                                                                     \n",
              "LP001448                0.0       370.0             360.0             1.0   \n",
              "LP001469                0.0       650.0             480.0             NaN   \n",
              "LP001536                0.0       600.0             180.0             0.0   \n",
              "LP001585                0.0       700.0             300.0             1.0   \n",
              "LP001637                0.0       260.0             360.0             1.0   \n",
              "LP001640             4750.0       120.0             360.0             1.0   \n",
              "LP001922                0.0         NaN             360.0             1.0   \n",
              "LP001996                0.0       480.0             360.0             1.0   \n",
              "LP002101                0.0       490.0             180.0             1.0   \n",
              "LP002317                0.0       360.0             360.0             0.0   \n",
              "LP002422                0.0       152.0             360.0             1.0   \n",
              "LP002624             6667.0       480.0             360.0             NaN   \n",
              "\n",
              "         Property_Area Loan_Status  \n",
              "Loan_ID                             \n",
              "LP001448         Rural           Y  \n",
              "LP001469         Urban           Y  \n",
              "LP001536     Semiurban           Y  \n",
              "LP001585         Urban           Y  \n",
              "LP001637     Semiurban           N  \n",
              "LP001640     Semiurban           Y  \n",
              "LP001922         Rural           N  \n",
              "LP001996         Rural           N  \n",
              "LP002101         Urban           Y  \n",
              "LP002317         Rural           N  \n",
              "LP002422     Semiurban           Y  \n",
              "LP002624         Urban           Y  "
            ]
          },
          "execution_count": 54,
          "metadata": {},
          "output_type": "execute_result"
        }
      ],
      "source": [
        "df[df['ApplicantIncome'] >= 20000]"
      ]
    },
    {
      "cell_type": "code",
      "execution_count": null,
      "metadata": {
        "colab": {
          "base_uri": "https://localhost:8080/",
          "height": 1000
        },
        "id": "7wwGnvyCza5W",
        "outputId": "deac54dd-6494-4f5d-cc7e-a9a3396f0553"
      },
      "outputs": [
        {
          "data": {
            "text/html": [
              "\n",
              "  <div id=\"df-d95d2f7c-7cb9-4435-be8c-017b29d75d72\">\n",
              "    <div class=\"colab-df-container\">\n",
              "      <div>\n",
              "<style scoped>\n",
              "    .dataframe tbody tr th:only-of-type {\n",
              "        vertical-align: middle;\n",
              "    }\n",
              "\n",
              "    .dataframe tbody tr th {\n",
              "        vertical-align: top;\n",
              "    }\n",
              "\n",
              "    .dataframe thead th {\n",
              "        text-align: right;\n",
              "    }\n",
              "</style>\n",
              "<table border=\"1\" class=\"dataframe\">\n",
              "  <thead>\n",
              "    <tr style=\"text-align: right;\">\n",
              "      <th></th>\n",
              "      <th>Gender</th>\n",
              "      <th>Married</th>\n",
              "      <th>Dependents</th>\n",
              "      <th>Education</th>\n",
              "      <th>Self_Employed</th>\n",
              "      <th>ApplicantIncome</th>\n",
              "      <th>CoapplicantIncome</th>\n",
              "      <th>LoanAmount</th>\n",
              "      <th>Loan_Amount_Term</th>\n",
              "      <th>Credit_History</th>\n",
              "      <th>Property_Area</th>\n",
              "      <th>Loan_Status</th>\n",
              "    </tr>\n",
              "    <tr>\n",
              "      <th>Loan_ID</th>\n",
              "      <th></th>\n",
              "      <th></th>\n",
              "      <th></th>\n",
              "      <th></th>\n",
              "      <th></th>\n",
              "      <th></th>\n",
              "      <th></th>\n",
              "      <th></th>\n",
              "      <th></th>\n",
              "      <th></th>\n",
              "      <th></th>\n",
              "      <th></th>\n",
              "    </tr>\n",
              "  </thead>\n",
              "  <tbody>\n",
              "    <tr>\n",
              "      <th>LP001020</th>\n",
              "      <td>Male</td>\n",
              "      <td>Yes</td>\n",
              "      <td>1</td>\n",
              "      <td>Graduate</td>\n",
              "      <td>No</td>\n",
              "      <td>12841</td>\n",
              "      <td>10968.0</td>\n",
              "      <td>349.0</td>\n",
              "      <td>360.0</td>\n",
              "      <td>1.0</td>\n",
              "      <td>Semiurban</td>\n",
              "      <td>N</td>\n",
              "    </tr>\n",
              "    <tr>\n",
              "      <th>LP001046</th>\n",
              "      <td>Male</td>\n",
              "      <td>Yes</td>\n",
              "      <td>1</td>\n",
              "      <td>Graduate</td>\n",
              "      <td>No</td>\n",
              "      <td>5955</td>\n",
              "      <td>5625.0</td>\n",
              "      <td>315.0</td>\n",
              "      <td>360.0</td>\n",
              "      <td>1.0</td>\n",
              "      <td>Urban</td>\n",
              "      <td>Y</td>\n",
              "    </tr>\n",
              "    <tr>\n",
              "      <th>LP001100</th>\n",
              "      <td>Male</td>\n",
              "      <td>No</td>\n",
              "      <td>3+</td>\n",
              "      <td>Graduate</td>\n",
              "      <td>No</td>\n",
              "      <td>12500</td>\n",
              "      <td>3000.0</td>\n",
              "      <td>320.0</td>\n",
              "      <td>360.0</td>\n",
              "      <td>1.0</td>\n",
              "      <td>Rural</td>\n",
              "      <td>N</td>\n",
              "    </tr>\n",
              "    <tr>\n",
              "      <th>LP001233</th>\n",
              "      <td>Male</td>\n",
              "      <td>Yes</td>\n",
              "      <td>1</td>\n",
              "      <td>Graduate</td>\n",
              "      <td>No</td>\n",
              "      <td>10750</td>\n",
              "      <td>0.0</td>\n",
              "      <td>312.0</td>\n",
              "      <td>360.0</td>\n",
              "      <td>1.0</td>\n",
              "      <td>Urban</td>\n",
              "      <td>Y</td>\n",
              "    </tr>\n",
              "    <tr>\n",
              "      <th>LP001448</th>\n",
              "      <td>NaN</td>\n",
              "      <td>Yes</td>\n",
              "      <td>3+</td>\n",
              "      <td>Graduate</td>\n",
              "      <td>No</td>\n",
              "      <td>23803</td>\n",
              "      <td>0.0</td>\n",
              "      <td>370.0</td>\n",
              "      <td>360.0</td>\n",
              "      <td>1.0</td>\n",
              "      <td>Rural</td>\n",
              "      <td>Y</td>\n",
              "    </tr>\n",
              "    <tr>\n",
              "      <th>LP001469</th>\n",
              "      <td>Male</td>\n",
              "      <td>No</td>\n",
              "      <td>0</td>\n",
              "      <td>Graduate</td>\n",
              "      <td>Yes</td>\n",
              "      <td>20166</td>\n",
              "      <td>0.0</td>\n",
              "      <td>650.0</td>\n",
              "      <td>480.0</td>\n",
              "      <td>NaN</td>\n",
              "      <td>Urban</td>\n",
              "      <td>Y</td>\n",
              "    </tr>\n",
              "    <tr>\n",
              "      <th>LP001536</th>\n",
              "      <td>Male</td>\n",
              "      <td>Yes</td>\n",
              "      <td>3+</td>\n",
              "      <td>Graduate</td>\n",
              "      <td>No</td>\n",
              "      <td>39999</td>\n",
              "      <td>0.0</td>\n",
              "      <td>600.0</td>\n",
              "      <td>180.0</td>\n",
              "      <td>0.0</td>\n",
              "      <td>Semiurban</td>\n",
              "      <td>Y</td>\n",
              "    </tr>\n",
              "    <tr>\n",
              "      <th>LP001585</th>\n",
              "      <td>NaN</td>\n",
              "      <td>Yes</td>\n",
              "      <td>3+</td>\n",
              "      <td>Graduate</td>\n",
              "      <td>No</td>\n",
              "      <td>51763</td>\n",
              "      <td>0.0</td>\n",
              "      <td>700.0</td>\n",
              "      <td>300.0</td>\n",
              "      <td>1.0</td>\n",
              "      <td>Urban</td>\n",
              "      <td>Y</td>\n",
              "    </tr>\n",
              "    <tr>\n",
              "      <th>LP001610</th>\n",
              "      <td>Male</td>\n",
              "      <td>Yes</td>\n",
              "      <td>3+</td>\n",
              "      <td>Graduate</td>\n",
              "      <td>No</td>\n",
              "      <td>5516</td>\n",
              "      <td>11300.0</td>\n",
              "      <td>495.0</td>\n",
              "      <td>360.0</td>\n",
              "      <td>0.0</td>\n",
              "      <td>Semiurban</td>\n",
              "      <td>N</td>\n",
              "    </tr>\n",
              "    <tr>\n",
              "      <th>LP001859</th>\n",
              "      <td>Male</td>\n",
              "      <td>Yes</td>\n",
              "      <td>0</td>\n",
              "      <td>Graduate</td>\n",
              "      <td>No</td>\n",
              "      <td>14683</td>\n",
              "      <td>2100.0</td>\n",
              "      <td>304.0</td>\n",
              "      <td>360.0</td>\n",
              "      <td>1.0</td>\n",
              "      <td>Rural</td>\n",
              "      <td>N</td>\n",
              "    </tr>\n",
              "    <tr>\n",
              "      <th>LP001865</th>\n",
              "      <td>Male</td>\n",
              "      <td>Yes</td>\n",
              "      <td>1</td>\n",
              "      <td>Graduate</td>\n",
              "      <td>No</td>\n",
              "      <td>6083</td>\n",
              "      <td>4250.0</td>\n",
              "      <td>330.0</td>\n",
              "      <td>360.0</td>\n",
              "      <td>NaN</td>\n",
              "      <td>Urban</td>\n",
              "      <td>Y</td>\n",
              "    </tr>\n",
              "    <tr>\n",
              "      <th>LP001907</th>\n",
              "      <td>Male</td>\n",
              "      <td>Yes</td>\n",
              "      <td>0</td>\n",
              "      <td>Graduate</td>\n",
              "      <td>No</td>\n",
              "      <td>14583</td>\n",
              "      <td>0.0</td>\n",
              "      <td>436.0</td>\n",
              "      <td>360.0</td>\n",
              "      <td>1.0</td>\n",
              "      <td>Semiurban</td>\n",
              "      <td>Y</td>\n",
              "    </tr>\n",
              "    <tr>\n",
              "      <th>LP001996</th>\n",
              "      <td>Male</td>\n",
              "      <td>No</td>\n",
              "      <td>0</td>\n",
              "      <td>Graduate</td>\n",
              "      <td>No</td>\n",
              "      <td>20233</td>\n",
              "      <td>0.0</td>\n",
              "      <td>480.0</td>\n",
              "      <td>360.0</td>\n",
              "      <td>1.0</td>\n",
              "      <td>Rural</td>\n",
              "      <td>N</td>\n",
              "    </tr>\n",
              "    <tr>\n",
              "      <th>LP002065</th>\n",
              "      <td>Male</td>\n",
              "      <td>Yes</td>\n",
              "      <td>3+</td>\n",
              "      <td>Graduate</td>\n",
              "      <td>No</td>\n",
              "      <td>15000</td>\n",
              "      <td>0.0</td>\n",
              "      <td>300.0</td>\n",
              "      <td>360.0</td>\n",
              "      <td>1.0</td>\n",
              "      <td>Rural</td>\n",
              "      <td>Y</td>\n",
              "    </tr>\n",
              "    <tr>\n",
              "      <th>LP002067</th>\n",
              "      <td>Male</td>\n",
              "      <td>Yes</td>\n",
              "      <td>1</td>\n",
              "      <td>Graduate</td>\n",
              "      <td>Yes</td>\n",
              "      <td>8666</td>\n",
              "      <td>4983.0</td>\n",
              "      <td>376.0</td>\n",
              "      <td>360.0</td>\n",
              "      <td>0.0</td>\n",
              "      <td>Rural</td>\n",
              "      <td>N</td>\n",
              "    </tr>\n",
              "    <tr>\n",
              "      <th>LP002101</th>\n",
              "      <td>Male</td>\n",
              "      <td>Yes</td>\n",
              "      <td>0</td>\n",
              "      <td>Graduate</td>\n",
              "      <td>NaN</td>\n",
              "      <td>63337</td>\n",
              "      <td>0.0</td>\n",
              "      <td>490.0</td>\n",
              "      <td>180.0</td>\n",
              "      <td>1.0</td>\n",
              "      <td>Urban</td>\n",
              "      <td>Y</td>\n",
              "    </tr>\n",
              "    <tr>\n",
              "      <th>LP002140</th>\n",
              "      <td>Male</td>\n",
              "      <td>No</td>\n",
              "      <td>0</td>\n",
              "      <td>Graduate</td>\n",
              "      <td>No</td>\n",
              "      <td>8750</td>\n",
              "      <td>4167.0</td>\n",
              "      <td>308.0</td>\n",
              "      <td>360.0</td>\n",
              "      <td>1.0</td>\n",
              "      <td>Rural</td>\n",
              "      <td>N</td>\n",
              "    </tr>\n",
              "    <tr>\n",
              "      <th>LP002191</th>\n",
              "      <td>Male</td>\n",
              "      <td>Yes</td>\n",
              "      <td>0</td>\n",
              "      <td>Graduate</td>\n",
              "      <td>No</td>\n",
              "      <td>19730</td>\n",
              "      <td>5266.0</td>\n",
              "      <td>570.0</td>\n",
              "      <td>360.0</td>\n",
              "      <td>1.0</td>\n",
              "      <td>Rural</td>\n",
              "      <td>N</td>\n",
              "    </tr>\n",
              "    <tr>\n",
              "      <th>LP002201</th>\n",
              "      <td>Male</td>\n",
              "      <td>Yes</td>\n",
              "      <td>2</td>\n",
              "      <td>Graduate</td>\n",
              "      <td>Yes</td>\n",
              "      <td>9323</td>\n",
              "      <td>7873.0</td>\n",
              "      <td>380.0</td>\n",
              "      <td>300.0</td>\n",
              "      <td>1.0</td>\n",
              "      <td>Rural</td>\n",
              "      <td>Y</td>\n",
              "    </tr>\n",
              "    <tr>\n",
              "      <th>LP002317</th>\n",
              "      <td>Male</td>\n",
              "      <td>Yes</td>\n",
              "      <td>3+</td>\n",
              "      <td>Graduate</td>\n",
              "      <td>No</td>\n",
              "      <td>81000</td>\n",
              "      <td>0.0</td>\n",
              "      <td>360.0</td>\n",
              "      <td>360.0</td>\n",
              "      <td>0.0</td>\n",
              "      <td>Rural</td>\n",
              "      <td>N</td>\n",
              "    </tr>\n",
              "    <tr>\n",
              "      <th>LP002386</th>\n",
              "      <td>Male</td>\n",
              "      <td>No</td>\n",
              "      <td>0</td>\n",
              "      <td>Graduate</td>\n",
              "      <td>NaN</td>\n",
              "      <td>12876</td>\n",
              "      <td>0.0</td>\n",
              "      <td>405.0</td>\n",
              "      <td>360.0</td>\n",
              "      <td>1.0</td>\n",
              "      <td>Semiurban</td>\n",
              "      <td>Y</td>\n",
              "    </tr>\n",
              "    <tr>\n",
              "      <th>LP002547</th>\n",
              "      <td>Male</td>\n",
              "      <td>Yes</td>\n",
              "      <td>1</td>\n",
              "      <td>Graduate</td>\n",
              "      <td>No</td>\n",
              "      <td>18333</td>\n",
              "      <td>0.0</td>\n",
              "      <td>500.0</td>\n",
              "      <td>360.0</td>\n",
              "      <td>1.0</td>\n",
              "      <td>Urban</td>\n",
              "      <td>N</td>\n",
              "    </tr>\n",
              "    <tr>\n",
              "      <th>LP002624</th>\n",
              "      <td>Male</td>\n",
              "      <td>Yes</td>\n",
              "      <td>0</td>\n",
              "      <td>Graduate</td>\n",
              "      <td>No</td>\n",
              "      <td>20833</td>\n",
              "      <td>6667.0</td>\n",
              "      <td>480.0</td>\n",
              "      <td>360.0</td>\n",
              "      <td>NaN</td>\n",
              "      <td>Urban</td>\n",
              "      <td>Y</td>\n",
              "    </tr>\n",
              "    <tr>\n",
              "      <th>LP002652</th>\n",
              "      <td>Male</td>\n",
              "      <td>No</td>\n",
              "      <td>0</td>\n",
              "      <td>Graduate</td>\n",
              "      <td>No</td>\n",
              "      <td>5815</td>\n",
              "      <td>3666.0</td>\n",
              "      <td>311.0</td>\n",
              "      <td>360.0</td>\n",
              "      <td>1.0</td>\n",
              "      <td>Rural</td>\n",
              "      <td>N</td>\n",
              "    </tr>\n",
              "    <tr>\n",
              "      <th>LP002693</th>\n",
              "      <td>Male</td>\n",
              "      <td>Yes</td>\n",
              "      <td>2</td>\n",
              "      <td>Graduate</td>\n",
              "      <td>Yes</td>\n",
              "      <td>7948</td>\n",
              "      <td>7166.0</td>\n",
              "      <td>480.0</td>\n",
              "      <td>360.0</td>\n",
              "      <td>1.0</td>\n",
              "      <td>Rural</td>\n",
              "      <td>Y</td>\n",
              "    </tr>\n",
              "    <tr>\n",
              "      <th>LP002699</th>\n",
              "      <td>Male</td>\n",
              "      <td>Yes</td>\n",
              "      <td>2</td>\n",
              "      <td>Graduate</td>\n",
              "      <td>Yes</td>\n",
              "      <td>17500</td>\n",
              "      <td>0.0</td>\n",
              "      <td>400.0</td>\n",
              "      <td>360.0</td>\n",
              "      <td>1.0</td>\n",
              "      <td>Rural</td>\n",
              "      <td>Y</td>\n",
              "    </tr>\n",
              "    <tr>\n",
              "      <th>LP002734</th>\n",
              "      <td>Male</td>\n",
              "      <td>Yes</td>\n",
              "      <td>0</td>\n",
              "      <td>Graduate</td>\n",
              "      <td>No</td>\n",
              "      <td>6133</td>\n",
              "      <td>3906.0</td>\n",
              "      <td>324.0</td>\n",
              "      <td>360.0</td>\n",
              "      <td>1.0</td>\n",
              "      <td>Urban</td>\n",
              "      <td>Y</td>\n",
              "    </tr>\n",
              "    <tr>\n",
              "      <th>LP002813</th>\n",
              "      <td>Female</td>\n",
              "      <td>Yes</td>\n",
              "      <td>1</td>\n",
              "      <td>Graduate</td>\n",
              "      <td>Yes</td>\n",
              "      <td>19484</td>\n",
              "      <td>0.0</td>\n",
              "      <td>600.0</td>\n",
              "      <td>360.0</td>\n",
              "      <td>1.0</td>\n",
              "      <td>Semiurban</td>\n",
              "      <td>Y</td>\n",
              "    </tr>\n",
              "    <tr>\n",
              "      <th>LP002949</th>\n",
              "      <td>Female</td>\n",
              "      <td>No</td>\n",
              "      <td>3+</td>\n",
              "      <td>Graduate</td>\n",
              "      <td>NaN</td>\n",
              "      <td>416</td>\n",
              "      <td>41667.0</td>\n",
              "      <td>350.0</td>\n",
              "      <td>180.0</td>\n",
              "      <td>NaN</td>\n",
              "      <td>Urban</td>\n",
              "      <td>N</td>\n",
              "    </tr>\n",
              "    <tr>\n",
              "      <th>LP002959</th>\n",
              "      <td>Female</td>\n",
              "      <td>Yes</td>\n",
              "      <td>1</td>\n",
              "      <td>Graduate</td>\n",
              "      <td>No</td>\n",
              "      <td>12000</td>\n",
              "      <td>0.0</td>\n",
              "      <td>496.0</td>\n",
              "      <td>360.0</td>\n",
              "      <td>1.0</td>\n",
              "      <td>Semiurban</td>\n",
              "      <td>Y</td>\n",
              "    </tr>\n",
              "  </tbody>\n",
              "</table>\n",
              "</div>\n",
              "      <button class=\"colab-df-convert\" onclick=\"convertToInteractive('df-d95d2f7c-7cb9-4435-be8c-017b29d75d72')\"\n",
              "              title=\"Convert this dataframe to an interactive table.\"\n",
              "              style=\"display:none;\">\n",
              "        \n",
              "  <svg xmlns=\"http://www.w3.org/2000/svg\" height=\"24px\"viewBox=\"0 0 24 24\"\n",
              "       width=\"24px\">\n",
              "    <path d=\"M0 0h24v24H0V0z\" fill=\"none\"/>\n",
              "    <path d=\"M18.56 5.44l.94 2.06.94-2.06 2.06-.94-2.06-.94-.94-2.06-.94 2.06-2.06.94zm-11 1L8.5 8.5l.94-2.06 2.06-.94-2.06-.94L8.5 2.5l-.94 2.06-2.06.94zm10 10l.94 2.06.94-2.06 2.06-.94-2.06-.94-.94-2.06-.94 2.06-2.06.94z\"/><path d=\"M17.41 7.96l-1.37-1.37c-.4-.4-.92-.59-1.43-.59-.52 0-1.04.2-1.43.59L10.3 9.45l-7.72 7.72c-.78.78-.78 2.05 0 2.83L4 21.41c.39.39.9.59 1.41.59.51 0 1.02-.2 1.41-.59l7.78-7.78 2.81-2.81c.8-.78.8-2.07 0-2.86zM5.41 20L4 18.59l7.72-7.72 1.47 1.35L5.41 20z\"/>\n",
              "  </svg>\n",
              "      </button>\n",
              "      \n",
              "  <style>\n",
              "    .colab-df-container {\n",
              "      display:flex;\n",
              "      flex-wrap:wrap;\n",
              "      gap: 12px;\n",
              "    }\n",
              "\n",
              "    .colab-df-convert {\n",
              "      background-color: #E8F0FE;\n",
              "      border: none;\n",
              "      border-radius: 50%;\n",
              "      cursor: pointer;\n",
              "      display: none;\n",
              "      fill: #1967D2;\n",
              "      height: 32px;\n",
              "      padding: 0 0 0 0;\n",
              "      width: 32px;\n",
              "    }\n",
              "\n",
              "    .colab-df-convert:hover {\n",
              "      background-color: #E2EBFA;\n",
              "      box-shadow: 0px 1px 2px rgba(60, 64, 67, 0.3), 0px 1px 3px 1px rgba(60, 64, 67, 0.15);\n",
              "      fill: #174EA6;\n",
              "    }\n",
              "\n",
              "    [theme=dark] .colab-df-convert {\n",
              "      background-color: #3B4455;\n",
              "      fill: #D2E3FC;\n",
              "    }\n",
              "\n",
              "    [theme=dark] .colab-df-convert:hover {\n",
              "      background-color: #434B5C;\n",
              "      box-shadow: 0px 1px 3px 1px rgba(0, 0, 0, 0.15);\n",
              "      filter: drop-shadow(0px 1px 2px rgba(0, 0, 0, 0.3));\n",
              "      fill: #FFFFFF;\n",
              "    }\n",
              "  </style>\n",
              "\n",
              "      <script>\n",
              "        const buttonEl =\n",
              "          document.querySelector('#df-d95d2f7c-7cb9-4435-be8c-017b29d75d72 button.colab-df-convert');\n",
              "        buttonEl.style.display =\n",
              "          google.colab.kernel.accessAllowed ? 'block' : 'none';\n",
              "\n",
              "        async function convertToInteractive(key) {\n",
              "          const element = document.querySelector('#df-d95d2f7c-7cb9-4435-be8c-017b29d75d72');\n",
              "          const dataTable =\n",
              "            await google.colab.kernel.invokeFunction('convertToInteractive',\n",
              "                                                     [key], {});\n",
              "          if (!dataTable) return;\n",
              "\n",
              "          const docLinkHtml = 'Like what you see? Visit the ' +\n",
              "            '<a target=\"_blank\" href=https://colab.research.google.com/notebooks/data_table.ipynb>data table notebook</a>'\n",
              "            + ' to learn more about interactive tables.';\n",
              "          element.innerHTML = '';\n",
              "          dataTable['output_type'] = 'display_data';\n",
              "          await google.colab.output.renderOutput(dataTable, element);\n",
              "          const docLink = document.createElement('div');\n",
              "          docLink.innerHTML = docLinkHtml;\n",
              "          element.appendChild(docLink);\n",
              "        }\n",
              "      </script>\n",
              "    </div>\n",
              "  </div>\n",
              "  "
            ],
            "text/plain": [
              "          Gender Married Dependents Education Self_Employed  ApplicantIncome  \\\n",
              "Loan_ID                                                                        \n",
              "LP001020    Male     Yes          1  Graduate            No            12841   \n",
              "LP001046    Male     Yes          1  Graduate            No             5955   \n",
              "LP001100    Male      No         3+  Graduate            No            12500   \n",
              "LP001233    Male     Yes          1  Graduate            No            10750   \n",
              "LP001448     NaN     Yes         3+  Graduate            No            23803   \n",
              "LP001469    Male      No          0  Graduate           Yes            20166   \n",
              "LP001536    Male     Yes         3+  Graduate            No            39999   \n",
              "LP001585     NaN     Yes         3+  Graduate            No            51763   \n",
              "LP001610    Male     Yes         3+  Graduate            No             5516   \n",
              "LP001859    Male     Yes          0  Graduate            No            14683   \n",
              "LP001865    Male     Yes          1  Graduate            No             6083   \n",
              "LP001907    Male     Yes          0  Graduate            No            14583   \n",
              "LP001996    Male      No          0  Graduate            No            20233   \n",
              "LP002065    Male     Yes         3+  Graduate            No            15000   \n",
              "LP002067    Male     Yes          1  Graduate           Yes             8666   \n",
              "LP002101    Male     Yes          0  Graduate           NaN            63337   \n",
              "LP002140    Male      No          0  Graduate            No             8750   \n",
              "LP002191    Male     Yes          0  Graduate            No            19730   \n",
              "LP002201    Male     Yes          2  Graduate           Yes             9323   \n",
              "LP002317    Male     Yes         3+  Graduate            No            81000   \n",
              "LP002386    Male      No          0  Graduate           NaN            12876   \n",
              "LP002547    Male     Yes          1  Graduate            No            18333   \n",
              "LP002624    Male     Yes          0  Graduate            No            20833   \n",
              "LP002652    Male      No          0  Graduate            No             5815   \n",
              "LP002693    Male     Yes          2  Graduate           Yes             7948   \n",
              "LP002699    Male     Yes          2  Graduate           Yes            17500   \n",
              "LP002734    Male     Yes          0  Graduate            No             6133   \n",
              "LP002813  Female     Yes          1  Graduate           Yes            19484   \n",
              "LP002949  Female      No         3+  Graduate           NaN              416   \n",
              "LP002959  Female     Yes          1  Graduate            No            12000   \n",
              "\n",
              "          CoapplicantIncome  LoanAmount  Loan_Amount_Term  Credit_History  \\\n",
              "Loan_ID                                                                     \n",
              "LP001020            10968.0       349.0             360.0             1.0   \n",
              "LP001046             5625.0       315.0             360.0             1.0   \n",
              "LP001100             3000.0       320.0             360.0             1.0   \n",
              "LP001233                0.0       312.0             360.0             1.0   \n",
              "LP001448                0.0       370.0             360.0             1.0   \n",
              "LP001469                0.0       650.0             480.0             NaN   \n",
              "LP001536                0.0       600.0             180.0             0.0   \n",
              "LP001585                0.0       700.0             300.0             1.0   \n",
              "LP001610            11300.0       495.0             360.0             0.0   \n",
              "LP001859             2100.0       304.0             360.0             1.0   \n",
              "LP001865             4250.0       330.0             360.0             NaN   \n",
              "LP001907                0.0       436.0             360.0             1.0   \n",
              "LP001996                0.0       480.0             360.0             1.0   \n",
              "LP002065                0.0       300.0             360.0             1.0   \n",
              "LP002067             4983.0       376.0             360.0             0.0   \n",
              "LP002101                0.0       490.0             180.0             1.0   \n",
              "LP002140             4167.0       308.0             360.0             1.0   \n",
              "LP002191             5266.0       570.0             360.0             1.0   \n",
              "LP002201             7873.0       380.0             300.0             1.0   \n",
              "LP002317                0.0       360.0             360.0             0.0   \n",
              "LP002386                0.0       405.0             360.0             1.0   \n",
              "LP002547                0.0       500.0             360.0             1.0   \n",
              "LP002624             6667.0       480.0             360.0             NaN   \n",
              "LP002652             3666.0       311.0             360.0             1.0   \n",
              "LP002693             7166.0       480.0             360.0             1.0   \n",
              "LP002699                0.0       400.0             360.0             1.0   \n",
              "LP002734             3906.0       324.0             360.0             1.0   \n",
              "LP002813                0.0       600.0             360.0             1.0   \n",
              "LP002949            41667.0       350.0             180.0             NaN   \n",
              "LP002959                0.0       496.0             360.0             1.0   \n",
              "\n",
              "         Property_Area Loan_Status  \n",
              "Loan_ID                             \n",
              "LP001020     Semiurban           N  \n",
              "LP001046         Urban           Y  \n",
              "LP001100         Rural           N  \n",
              "LP001233         Urban           Y  \n",
              "LP001448         Rural           Y  \n",
              "LP001469         Urban           Y  \n",
              "LP001536     Semiurban           Y  \n",
              "LP001585         Urban           Y  \n",
              "LP001610     Semiurban           N  \n",
              "LP001859         Rural           N  \n",
              "LP001865         Urban           Y  \n",
              "LP001907     Semiurban           Y  \n",
              "LP001996         Rural           N  \n",
              "LP002065         Rural           Y  \n",
              "LP002067         Rural           N  \n",
              "LP002101         Urban           Y  \n",
              "LP002140         Rural           N  \n",
              "LP002191         Rural           N  \n",
              "LP002201         Rural           Y  \n",
              "LP002317         Rural           N  \n",
              "LP002386     Semiurban           Y  \n",
              "LP002547         Urban           N  \n",
              "LP002624         Urban           Y  \n",
              "LP002652         Rural           N  \n",
              "LP002693         Rural           Y  \n",
              "LP002699         Rural           Y  \n",
              "LP002734         Urban           Y  \n",
              "LP002813     Semiurban           Y  \n",
              "LP002949         Urban           N  \n",
              "LP002959     Semiurban           Y  "
            ]
          },
          "execution_count": 55,
          "metadata": {},
          "output_type": "execute_result"
        }
      ],
      "source": [
        "df[df['LoanAmount'] >= 300]"
      ]
    },
    {
      "cell_type": "markdown",
      "metadata": {
        "id": "kA-33atkzsO6"
      },
      "source": [
        "We see that the outliers for the column 'ApplicantIncome' could be true because all of them have a graduate level of education and there is a strong correlation between education level and income"
      ]
    },
    {
      "cell_type": "markdown",
      "metadata": {
        "id": "r9EXcWyX0Bmz"
      },
      "source": [
        "For the column 'LoanAmount', we see that the ApplicantIncome and coapplicantIncome are bigger than the average and that could explain why they have a big loanAmount."
      ]
    },
    {
      "cell_type": "markdown",
      "metadata": {
        "id": "hvmlo3ic0k8k"
      },
      "source": [
        "Therefore, we keep the outliers"
      ]
    },
    {
      "cell_type": "markdown",
      "metadata": {
        "id": "p8FDHXdX0bLA"
      },
      "source": [
        "### Group Variables"
      ]
    },
    {
      "cell_type": "markdown",
      "metadata": {
        "id": "ccrn9MXV05Z-"
      },
      "source": [
        "In order to simplify the learning process of an algorithm, we have decided to group variables in a logical way"
      ]
    },
    {
      "cell_type": "markdown",
      "metadata": {
        "id": "FG5g4WDMsBly"
      },
      "source": [
        "For the column Loan_amount_term, we change from months to years and then we group the years in three groups: 0-15, 16-29, 30+"
      ]
    },
    {
      "cell_type": "code",
      "execution_count": null,
      "metadata": {
        "id": "QkcsT3Mq7YeC"
      },
      "outputs": [],
      "source": [
        "conditions = [\n",
        "    (df['Loan_Amount_Term'] <= 180),\n",
        "    (df['Loan_Amount_Term'] > 180) & ((df['Loan_Amount_Term'] < 360)),\n",
        "    (df['Loan_Amount_Term'] >= 360)]\n",
        "choices = ['0-15', '16-29', '30+']\n",
        "df['Loan_Term_years'] = np.select(conditions,choices, default= '30+')\n",
        "df.drop(['Loan_Amount_Term'], axis = 1, inplace = True)"
      ]
    },
    {
      "cell_type": "code",
      "execution_count": null,
      "metadata": {
        "colab": {
          "base_uri": "https://localhost:8080/",
          "height": 473
        },
        "id": "Dkosu1f56Qq9",
        "outputId": "f7f71a0f-e270-40c1-8df6-902f2502cad3"
      },
      "outputs": [
        {
          "data": {
            "text/plain": [
              "<Axes: >"
            ]
          },
          "execution_count": 57,
          "metadata": {},
          "output_type": "execute_result"
        },
        {
          "data": {
            "image/png": "[encoded data removed]",
            "text/plain": [
              "<Figure size 640x480 with 1 Axes>"
            ]
          },
          "metadata": {},
          "output_type": "display_data"
        }
      ],
      "source": [
        "df['Loan_Term_years'].value_counts().plot(kind='bar')"
      ]
    },
    {
      "cell_type": "markdown",
      "metadata": {
        "id": "Hh7N4q8hs1mf"
      },
      "source": [
        "We go from multiple dependents, to a column with only two variables Yes or No"
      ]
    },
    {
      "cell_type": "code",
      "execution_count": null,
      "metadata": {
        "id": "qkbr6iNo-rOm"
      },
      "outputs": [],
      "source": [
        "conditions = [\n",
        "    (df['Dependents'] == '0'),\n",
        "    (df['Dependents'] != '0')]\n",
        "choices = ['No', 'Yes']\n",
        "df['flag_dependent'] = np.select(conditions,choices, default= 'No')\n",
        "df.drop(['Dependents'], axis = 1, inplace = True)"
      ]
    },
    {
      "cell_type": "code",
      "execution_count": null,
      "metadata": {
        "colab": {
          "base_uri": "https://localhost:8080/",
          "height": 455
        },
        "id": "8uHZc11s_wev",
        "outputId": "e494d017-433b-4ca4-f0d4-072672bc1be0"
      },
      "outputs": [
        {
          "data": {
            "text/plain": [
              "<Axes: >"
            ]
          },
          "execution_count": 59,
          "metadata": {},
          "output_type": "execute_result"
        },
        {
          "data": {
            "image/png": "[encoded data removed]",
            "text/plain": [
              "<Figure size 640x480 with 1 Axes>"
            ]
          },
          "metadata": {},
          "output_type": "display_data"
        }
      ],
      "source": [
        "df['flag_dependent'].value_counts().plot(kind='bar')"
      ]
    },
    {
      "cell_type": "markdown",
      "metadata": {
        "id": "BvrT_w9WtBa6"
      },
      "source": [
        "We just change the 0 or 1 to Yes or NO. In order to change the column type from numerical to categorical"
      ]
    },
    {
      "cell_type": "code",
      "execution_count": null,
      "metadata": {
        "id": "sPXQ2SYiE3xc"
      },
      "outputs": [],
      "source": [
        "conditions = [\n",
        "    (df['Credit_History'] == 1),\n",
        "    (df['Credit_History'] == 0)]\n",
        "choices = ['Yes', 'No']\n",
        "df['flag_history'] = np.select(conditions,choices, default= 'No')\n",
        "df.drop(['Credit_History'], axis = 1, inplace = True)"
      ]
    },
    {
      "cell_type": "code",
      "execution_count": null,
      "metadata": {
        "colab": {
          "base_uri": "https://localhost:8080/",
          "height": 455
        },
        "id": "87FypK4lFK-M",
        "outputId": "8cb4471d-fd2c-4027-b0f2-a47f7f8ed7e8"
      },
      "outputs": [
        {
          "data": {
            "text/plain": [
              "<Axes: >"
            ]
          },
          "execution_count": 61,
          "metadata": {},
          "output_type": "execute_result"
        },
        {
          "data": {
            "image/png": "[encoded data removed]",
            "text/plain": [
              "<Figure size 640x480 with 1 Axes>"
            ]
          },
          "metadata": {},
          "output_type": "display_data"
        }
      ],
      "source": [
        "df['flag_history'].value_counts().plot(kind='bar')"
      ]
    },
    {
      "cell_type": "markdown",
      "metadata": {
        "id": "4FjOZzARAyv9"
      },
      "source": [
        "### Fill null values"
      ]
    },
    {
      "cell_type": "code",
      "execution_count": null,
      "metadata": {
        "colab": {
          "base_uri": "https://localhost:8080/"
        },
        "id": "x8SNd25R_4I4",
        "outputId": "80e742bc-5444-4050-a7e7-e9284e3fae2e"
      },
      "outputs": [
        {
          "data": {
            "text/plain": [
              "Gender               13\n",
              "Married               3\n",
              "Education             0\n",
              "Self_Employed        32\n",
              "ApplicantIncome       0\n",
              "CoapplicantIncome     0\n",
              "LoanAmount           22\n",
              "Property_Area         0\n",
              "Loan_Status           0\n",
              "Loan_Term_years       0\n",
              "flag_dependent        0\n",
              "flag_history          0\n",
              "dtype: int64"
            ]
          },
          "execution_count": 62,
          "metadata": {},
          "output_type": "execute_result"
        }
      ],
      "source": [
        "df.isnull().sum()"
      ]
    },
    {
      "cell_type": "markdown",
      "metadata": {
        "id": "8uqO464vBX0y"
      },
      "source": [
        "We fill 'categorical' variables with the most common value and the 'numerical' variables with the median because we don't have a normal distribtuion"
      ]
    },
    {
      "cell_type": "code",
      "execution_count": null,
      "metadata": {
        "id": "QZOH2SxuA9Vp"
      },
      "outputs": [],
      "source": [
        "df['Gender'].fillna(\n",
        "    df['Gender'].value_counts().index[0], inplace = True)\n",
        "\n",
        "df['Married'].fillna(\n",
        "    df['Married'].value_counts().index[0], inplace = True)\n",
        "\n",
        "df['Self_Employed'].fillna(\n",
        "    df['Self_Employed'].value_counts().index[0], inplace = True)\n",
        "\n",
        "df['LoanAmount'].fillna(\n",
        "  df['LoanAmount'].median(), inplace = True)"
      ]
    },
    {
      "cell_type": "code",
      "execution_count": null,
      "metadata": {
        "colab": {
          "base_uri": "https://localhost:8080/"
        },
        "id": "9ML9IwM8BzDW",
        "outputId": "312b3599-4bac-4292-f848-a11f0bd43271"
      },
      "outputs": [
        {
          "data": {
            "text/plain": [
              "Gender               0\n",
              "Married              0\n",
              "Education            0\n",
              "Self_Employed        0\n",
              "ApplicantIncome      0\n",
              "CoapplicantIncome    0\n",
              "LoanAmount           0\n",
              "Property_Area        0\n",
              "Loan_Status          0\n",
              "Loan_Term_years      0\n",
              "flag_dependent       0\n",
              "flag_history         0\n",
              "dtype: int64"
            ]
          },
          "execution_count": 64,
          "metadata": {},
          "output_type": "execute_result"
        }
      ],
      "source": [
        "df.isnull().sum()"
      ]
    },
    {
      "cell_type": "markdown",
      "metadata": {
        "id": "aKmh8BKSB9jN"
      },
      "source": [
        "### Modeling Gridsearch"
      ]
    },
    {
      "cell_type": "code",
      "execution_count": null,
      "metadata": {
        "id": "ZQzcdvGCJF-U"
      },
      "outputs": [],
      "source": [
        "#split the dataset\n",
        "from sklearn.model_selection import train_test_split\n",
        "X = df.drop(['Loan_Status'],axis=1)\n",
        "y = df['Loan_Status']\n",
        "X_train, X_test, y_train, y_test = train_test_split(X,y, test_size=0.3, random_state=120,stratify=y)"
      ]
    },
    {
      "cell_type": "code",
      "execution_count": null,
      "metadata": {
        "id": "xXXIMwnxIWhn"
      },
      "outputs": [],
      "source": [
        "# get the list of categorical columns and numerical columns\n",
        "numerical_cols = X_train.select_dtypes(include=np.number).columns\n",
        "categorical_cols = X_train.select_dtypes(include=['object', 'category']).columns\n",
        "X_train[categorical_cols] = X_train[categorical_cols].astype(str)\n",
        "X_train[numerical_cols] = X_train[numerical_cols].astype('float64')"
      ]
    },
    {
      "cell_type": "markdown",
      "metadata": {
        "id": "1hLxTki-ClVF"
      },
      "source": [
        "We have two important steps before modeling our dataset:\n",
        "\n",
        "\n",
        "*   Encode categorical variables using OneHotEncoder because machine learning models only accept numerical variables.\n",
        "*   Scale numerical variables using StandardScaler in order for machine learning models to interpret these features on the same scale\n",
        "\n"
      ]
    },
    {
      "cell_type": "markdown",
      "metadata": {
        "id": "F-9q4R94DRta"
      },
      "source": [
        "We define a \"ColumnTransformer\" and store it in variable called \"preprocessor\". This preprocessor will perform the two steps above"
      ]
    },
    {
      "cell_type": "markdown",
      "metadata": {
        "id": "Ip90Tr9dGQz0"
      },
      "source": [
        "We also use SMOTE to oversample and balance the target variable. Since we have an unbalanced dataset, it could lead to a biased model. So we need to balance it."
      ]
    },
    {
      "cell_type": "code",
      "execution_count": null,
      "metadata": {
        "id": "15VhSV9_GYHj"
      },
      "outputs": [],
      "source": [
        "from sklearn.preprocessing import OneHotEncoder, StandardScaler\n",
        "from imblearn.pipeline import make_pipeline\n",
        "from sklearn.compose import ColumnTransformer\n",
        "from sklearn.model_selection import GridSearchCV\n",
        "from imblearn.pipeline import Pipeline\n",
        "from sklearn.metrics import classification_report\n",
        "from sklearn.metrics import accuracy_score\n",
        "from sklearn.metrics import f1_score\n",
        "from imblearn.over_sampling import SMOTE\n",
        "\n",
        "sm = SMOTE(sampling_strategy='auto', k_neighbors=3)\n",
        "\n",
        "\n",
        "categorical_preprocessor = OneHotEncoder(handle_unknown=\"ignore\", drop ='first')\n",
        "numerical_preprocessor = StandardScaler()\n",
        "\n",
        "preprocessor = ColumnTransformer([\n",
        "    (\"categorical encoding\", categorical_preprocessor, categorical_cols),\n",
        "    (\"numerical encoding\", numerical_preprocessor, numerical_cols)\n",
        "])"
      ]
    },
    {
      "cell_type": "markdown",
      "metadata": {
        "id": "bqU-_3O8Dk9Q"
      },
      "source": [
        "We create a pipeline that will perform three tasks on the dataset:\n",
        "\n",
        "\n",
        "*   Use 'preprocessor' to scale and encode the data\n",
        "*   Perform oversampling using 'SMOTE' to balance the target variable and avoid a biased model\n",
        "*   Fitting the model selected to the data and train it\n"
      ]
    },
    {
      "cell_type": "markdown",
      "metadata": {
        "id": "c5De_zprEQRB"
      },
      "source": [
        "We create a gridsearch that will go through all possible combinations of parameters and only keep the the model with parameters that give the best score. The model is validated using cross validation inside the gridsearch."
      ]
    },
    {
      "cell_type": "markdown",
      "metadata": {
        "id": "xTY0aZVWuCnd"
      },
      "source": [
        "We compare the results of multiple models and choose the model that gives us the best results"
      ]
    },
    {
      "cell_type": "code",
      "execution_count": null,
      "metadata": {
        "colab": {
          "base_uri": "https://localhost:8080/"
        },
        "id": "E79Eyqm_KEM-",
        "outputId": "8c75b18d-3575-4ef2-f030-0c76f84ba575"
      },
      "outputs": [
        {
          "name": "stdout",
          "output_type": "stream",
          "text": [
            "Fitting 5 folds for each of 50 candidates, totalling 250 fits\n",
            "Best score:\n",
            "76%\n",
            "Best parameters found:\n",
            "{'classifier__C': 100, 'classifier__gamma': 0.0001, 'classifier__kernel': 'rbf'}\n",
            "CPU times: user 3.26 s, sys: 301 ms, total: 3.56 s\n",
            "Wall time: 6min 41s\n"
          ]
        }
      ],
      "source": [
        "%%time\n",
        "from sklearn.svm import SVC\n",
        "\n",
        "svc_pipeline = Pipeline([\n",
        "    ('preprocessor', preprocessor),\n",
        "    ('Over_sampler', sm),\n",
        "    (\"classifier\",SVC())\n",
        "])\n",
        "\n",
        "# make lists of different parameters to check\n",
        "parameters = {\n",
        "              'classifier__C': [ 1000,0.1, 10, 100, 1],\n",
        "              'classifier__gamma': [1, 0.1, 0.01, 0.001, 0.0001],\n",
        "              'classifier__kernel': ['rbf','linear']\n",
        "  }\n",
        "\n",
        "grid_search_svm = GridSearchCV(svc_pipeline,\n",
        "                               param_grid=parameters,\n",
        "                               cv=5,\n",
        "                               n_jobs = -1,\n",
        "                               scoring = 'f1_weighted',\n",
        "                               error_score='raise',\n",
        "                               verbose = 1\n",
        "                               )\n",
        "\n",
        "grid_search_svm.fit(X_train, y_train)\n",
        "print(\"Best score:\")\n",
        "print(str(round(grid_search_svm.best_score_*100))+'%')\n",
        "print(\"Best parameters found:\")\n",
        "print(grid_search_svm.best_params_)"
      ]
    },
    {
      "cell_type": "code",
      "execution_count": null,
      "metadata": {
        "colab": {
          "base_uri": "https://localhost:8080/"
        },
        "id": "oZlcHHtw4JwH",
        "outputId": "36deea11-ac2d-4141-e06a-d9323a287409"
      },
      "outputs": [
        {
          "name": "stdout",
          "output_type": "stream",
          "text": [
            "F1 Score on training set: \n",
            "76%\n",
            "F1 Score on test set: \n",
            "77%\n",
            "classification report\n",
            "              precision    recall  f1-score   support\n",
            "\n",
            "           N       0.71      0.52      0.60        58\n",
            "           Y       0.80      0.91      0.85       127\n",
            "\n",
            "    accuracy                           0.78       185\n",
            "   macro avg       0.76      0.71      0.73       185\n",
            "weighted avg       0.78      0.78      0.77       185\n",
            "\n"
          ]
        }
      ],
      "source": [
        "print('F1 Score on training set: ')\n",
        "print(str(round(grid_search_svm.score(X_train, y_train)*100))+'%')\n",
        "print('F1 Score on test set: ')\n",
        "print(str(round(grid_search_svm.score(X_test, y_test)*100))+'%')\n",
        "\n",
        "grid_predictions_svm = grid_search_svm.predict(X_test)\n",
        "# print classification report\n",
        "print('classification report')\n",
        "print(classification_report(y_test, grid_predictions_svm))"
      ]
    },
    {
      "cell_type": "code",
      "execution_count": null,
      "metadata": {
        "colab": {
          "base_uri": "https://localhost:8080/"
        },
        "id": "8T3Jc1jLJ2Bj",
        "outputId": "03488d33-8f95-4312-eaee-a7639d4c3186"
      },
      "outputs": [
        {
          "name": "stdout",
          "output_type": "stream",
          "text": [
            "Fitting 5 folds for each of 15 candidates, totalling 75 fits\n",
            "Best score:\n",
            "73%\n",
            "Best parameters found:\n",
            "{'classifier__C': 100, 'classifier__penalty': 'l2', 'classifier__solver': 'newton-cg'}\n",
            "CPU times: user 229 ms, sys: 11 ms, total: 240 ms\n",
            "Wall time: 1.98 s\n"
          ]
        }
      ],
      "source": [
        "%%time\n",
        "from sklearn.linear_model import LogisticRegression\n",
        "\n",
        "lr_pipeline = Pipeline([\n",
        "    ('preprocessor', preprocessor),\n",
        "    ('Over_sampler', sm),\n",
        "    (\"classifier\",LogisticRegression())\n",
        "])\n",
        "\n",
        "parameters = {\n",
        "              'classifier__solver': ['newton-cg', 'lbfgs', 'liblinear'],\n",
        "              'classifier__penalty': ['l2'],\n",
        "              'classifier__C': [100, 10, 1.0, 0.1, 0.01]\n",
        "  }\n",
        "\n",
        "grid_search_lr = GridSearchCV(lr_pipeline,\n",
        "                              param_grid=parameters,\n",
        "                              cv=5,\n",
        "                              n_jobs = -1,\n",
        "                              scoring = 'f1_weighted',\n",
        "                              error_score='raise',\n",
        "                              verbose = 1)\n",
        "\n",
        "grid_search_lr.fit(X_train, y_train)\n",
        "print(\"Best score:\")\n",
        "print(str(round(grid_search_lr.best_score_*100))+'%')\n",
        "print(\"Best parameters found:\")\n",
        "print(grid_search_lr.best_params_)"
      ]
    },
    {
      "cell_type": "code",
      "execution_count": null,
      "metadata": {
        "colab": {
          "base_uri": "https://localhost:8080/"
        },
        "id": "l_Y5-6l94Wph",
        "outputId": "55455f65-4159-49df-808b-e5e41b0e0286"
      },
      "outputs": [
        {
          "name": "stdout",
          "output_type": "stream",
          "text": [
            "F1 Score on training set: \n",
            "71%\n",
            "F1 Score on test set: \n",
            "69%\n",
            "classification report\n",
            "              precision    recall  f1-score   support\n",
            "\n",
            "           N       0.49      0.67      0.57        58\n",
            "           Y       0.82      0.69      0.75       127\n",
            "\n",
            "    accuracy                           0.68       185\n",
            "   macro avg       0.66      0.68      0.66       185\n",
            "weighted avg       0.72      0.68      0.69       185\n",
            "\n"
          ]
        }
      ],
      "source": [
        "print('F1 Score on training set: ')\n",
        "print(str(round(grid_search_lr.score(X_train, y_train)*100))+'%')\n",
        "print('F1 Score on test set: ')\n",
        "print(str(round(grid_search_lr.score(X_test, y_test)*100))+'%')\n",
        "\n",
        "grid_predictions_lr = grid_search_lr.predict(X_test)\n",
        "# print classification report\n",
        "print('classification report')\n",
        "print(classification_report(y_test, grid_predictions_lr))"
      ]
    },
    {
      "cell_type": "code",
      "execution_count": null,
      "metadata": {
        "colab": {
          "base_uri": "https://localhost:8080/"
        },
        "id": "gOPqj129OhJg",
        "outputId": "03f0e996-cb70-4a45-e8d1-639fd6deadfd"
      },
      "outputs": [
        {
          "name": "stdout",
          "output_type": "stream",
          "text": [
            "Fitting 5 folds for each of 10 candidates, totalling 50 fits\n",
            "Best score:\n",
            "73%\n",
            "Best parameters found:\n",
            "{'classifier__alpha': 0.8}\n",
            "CPU times: user 174 ms, sys: 4.43 ms, total: 179 ms\n",
            "Wall time: 1.21 s\n"
          ]
        }
      ],
      "source": [
        "%%time\n",
        "from sklearn.linear_model import RidgeClassifier\n",
        "\n",
        "rc_pipeline = Pipeline([\n",
        "    ('preprocessor', preprocessor),\n",
        "    ('Over_sampler', sm),\n",
        "    (\"classifier\",RidgeClassifier())\n",
        "])\n",
        "\n",
        "parameters = {\n",
        "              'classifier__alpha': [0.1, 0.2, 0.3, 0.4, 0.5, 0.6, 0.7, 0.8, 0.9, 1.0]\n",
        "  }\n",
        "\n",
        "grid_search_rc = GridSearchCV(rc_pipeline,\n",
        "                              param_grid=parameters,\n",
        "                              cv=5,\n",
        "                              n_jobs = -1,\n",
        "                              scoring = 'f1_weighted',\n",
        "                              error_score='raise',\n",
        "                              verbose = 1)\n",
        "\n",
        "grid_search_rc.fit(X_train, y_train)\n",
        "print(\"Best score:\")\n",
        "print(str(round(grid_search_rc.best_score_*100))+'%')\n",
        "print(\"Best parameters found:\")\n",
        "print(grid_search_rc.best_params_)"
      ]
    },
    {
      "cell_type": "code",
      "execution_count": null,
      "metadata": {
        "colab": {
          "base_uri": "https://localhost:8080/"
        },
        "id": "RMMGlCPl4qd3",
        "outputId": "9e59fa75-bfdf-46a1-de07-36eae66eacbe"
      },
      "outputs": [
        {
          "name": "stdout",
          "output_type": "stream",
          "text": [
            "F1 Score on training set: \n",
            "74%\n",
            "F1 Score on test set: \n",
            "77%\n",
            "classification report\n",
            "              precision    recall  f1-score   support\n",
            "\n",
            "           N       0.67      0.59      0.62        58\n",
            "           Y       0.82      0.87      0.84       127\n",
            "\n",
            "    accuracy                           0.78       185\n",
            "   macro avg       0.74      0.73      0.73       185\n",
            "weighted avg       0.77      0.78      0.77       185\n",
            "\n"
          ]
        }
      ],
      "source": [
        "print('F1 Score on training set: ')\n",
        "print(str(round(grid_search_rc.score(X_train, y_train)*100))+'%')\n",
        "print('F1 Score on test set: ')\n",
        "print(str(round(grid_search_rc.score(X_test, y_test)*100))+'%')\n",
        "\n",
        "grid_predictions_rc = grid_search_rc.predict(X_test)\n",
        "# print classification report\n",
        "print('classification report')\n",
        "print(classification_report(y_test, grid_predictions_rc))"
      ]
    },
    {
      "cell_type": "code",
      "execution_count": null,
      "metadata": {
        "colab": {
          "base_uri": "https://localhost:8080/"
        },
        "id": "Cl307TbHOwew",
        "outputId": "80f12e9f-6c08-4ee6-a640-3fae98f72842"
      },
      "outputs": [
        {
          "name": "stdout",
          "output_type": "stream",
          "text": [
            "Fitting 5 folds for each of 60 candidates, totalling 300 fits\n",
            "Best score:\n",
            "69%\n",
            "Best parameters found:\n",
            "{'classifier__metric': 'manhattan', 'classifier__n_neighbors': 19, 'classifier__weights': 'distance'}\n",
            "CPU times: user 696 ms, sys: 16.5 ms, total: 712 ms\n",
            "Wall time: 8.96 s\n"
          ]
        }
      ],
      "source": [
        "%%time\n",
        "from sklearn.neighbors import KNeighborsClassifier\n",
        "\n",
        "knn_pipeline = Pipeline([\n",
        "    ('preprocessor', preprocessor),\n",
        "    ('Over_sampler', sm),\n",
        "    (\"classifier\",KNeighborsClassifier())\n",
        "])\n",
        "\n",
        "parameters = {\n",
        "              'classifier__n_neighbors': range(1, 21, 2),\n",
        "              'classifier__weights': ['uniform', 'distance'],\n",
        "              'classifier__metric': ['euclidean', 'manhattan', 'minkowski']\n",
        "  }\n",
        "\n",
        "grid_search_knn = GridSearchCV(knn_pipeline,\n",
        "                              param_grid=parameters,\n",
        "                              cv=5,\n",
        "                              n_jobs = -1,\n",
        "                              scoring = 'f1_weighted',\n",
        "                              error_score='raise',\n",
        "                               verbose = 1)\n",
        "\n",
        "grid_search_knn.fit(X_train, y_train)\n",
        "print(\"Best score:\")\n",
        "print(str(round(grid_search_knn.best_score_*100))+'%')\n",
        "print(\"Best parameters found:\")\n",
        "print(grid_search_knn.best_params_)"
      ]
    },
    {
      "cell_type": "code",
      "execution_count": null,
      "metadata": {
        "colab": {
          "base_uri": "https://localhost:8080/"
        },
        "id": "c8c1hYp544CD",
        "outputId": "95782f31-8a67-424a-a4bd-4a0fea1fa2d1"
      },
      "outputs": [
        {
          "name": "stdout",
          "output_type": "stream",
          "text": [
            "F1 Score on training set: \n",
            "100%\n",
            "F1 Score on test set: \n",
            "66%\n",
            "classification report\n",
            "              precision    recall  f1-score   support\n",
            "\n",
            "           N       0.46      0.55      0.50        58\n",
            "           Y       0.77      0.70      0.74       127\n",
            "\n",
            "    accuracy                           0.65       185\n",
            "   macro avg       0.62      0.63      0.62       185\n",
            "weighted avg       0.67      0.65      0.66       185\n",
            "\n"
          ]
        }
      ],
      "source": [
        "print('F1 Score on training set: ')\n",
        "print(str(round(grid_search_knn.score(X_train, y_train)*100))+'%')\n",
        "print('F1 Score on test set: ')\n",
        "print(str(round(grid_search_knn.score(X_test, y_test)*100))+'%')\n",
        "\n",
        "grid_predictions_knn = grid_search_knn.predict(X_test)\n",
        "# print classification report\n",
        "print('classification report')\n",
        "print(classification_report(y_test, grid_predictions_knn))"
      ]
    },
    {
      "cell_type": "code",
      "execution_count": null,
      "metadata": {
        "colab": {
          "base_uri": "https://localhost:8080/"
        },
        "id": "S4Wr1GyOPHdU",
        "outputId": "ef27159b-b348-4597-ef08-9076598da4a6"
      },
      "outputs": [
        {
          "name": "stdout",
          "output_type": "stream",
          "text": [
            "Fitting 5 folds for each of 3 candidates, totalling 15 fits\n",
            "Best score:\n",
            "69%\n",
            "Best parameters found:\n",
            "{'classifier__n_estimators': 1000}\n",
            "CPU times: user 3.37 s, sys: 33.1 ms, total: 3.4 s\n",
            "Wall time: 19.3 s\n"
          ]
        }
      ],
      "source": [
        "%%time\n",
        "from sklearn.ensemble import BaggingClassifier\n",
        "\n",
        "bc_pipeline = Pipeline([\n",
        "    ('preprocessor', preprocessor),\n",
        "    ('Over_sampler', sm),\n",
        "    (\"classifier\",BaggingClassifier())\n",
        "])\n",
        "\n",
        "parameters = {\n",
        "              'classifier__n_estimators': [10, 100, 1000]\n",
        "  }\n",
        "\n",
        "\n",
        "grid_search_bc = GridSearchCV(bc_pipeline,\n",
        "                              param_grid=parameters,\n",
        "                              cv=5,\n",
        "                              n_jobs = -1,\n",
        "                              scoring = 'f1_weighted',\n",
        "                              error_score='raise',\n",
        "                              verbose = 1)\n",
        "\n",
        "grid_search_bc.fit(X_train, y_train)\n",
        "print(\"Best score:\")\n",
        "print(str(round(grid_search_bc.best_score_*100))+'%')\n",
        "print(\"Best parameters found:\")\n",
        "print(grid_search_bc.best_params_)"
      ]
    },
    {
      "cell_type": "code",
      "execution_count": null,
      "metadata": {
        "colab": {
          "base_uri": "https://localhost:8080/"
        },
        "id": "Iijhu-xf5UC1",
        "outputId": "df4a8eb6-7c7d-4d1c-c9a9-fe53c3a1422a"
      },
      "outputs": [
        {
          "name": "stdout",
          "output_type": "stream",
          "text": [
            "F1 Score on training set: \n",
            "100%\n",
            "F1 Score on test set: \n",
            "74%\n",
            "classification report\n",
            "              precision    recall  f1-score   support\n",
            "\n",
            "           N       0.61      0.53      0.57        58\n",
            "           Y       0.80      0.84      0.82       127\n",
            "\n",
            "    accuracy                           0.75       185\n",
            "   macro avg       0.70      0.69      0.69       185\n",
            "weighted avg       0.74      0.75      0.74       185\n",
            "\n"
          ]
        }
      ],
      "source": [
        "print('F1 Score on training set: ')\n",
        "print(str(round(grid_search_bc.score(X_train, y_train)*100))+'%')\n",
        "print('F1 Score on test set: ')\n",
        "print(str(round(grid_search_bc.score(X_test, y_test)*100))+'%')\n",
        "\n",
        "grid_predictions_bc = grid_search_bc.predict(X_test)\n",
        "# print classification report\n",
        "print('classification report')\n",
        "print(classification_report(y_test, grid_predictions_bc))"
      ]
    },
    {
      "cell_type": "code",
      "execution_count": null,
      "metadata": {
        "colab": {
          "base_uri": "https://localhost:8080/"
        },
        "id": "UR0U-K5BPjQR",
        "outputId": "55df6784-61b5-4822-d558-054a1ebd71d4"
      },
      "outputs": [
        {
          "name": "stdout",
          "output_type": "stream",
          "text": [
            "Best score:\n",
            "73%\n",
            "Best parameters found:\n",
            "{'classifier__max_features': 'sqrt', 'classifier__n_estimators': 1000}\n",
            "CPU times: user 2.31 s, sys: 21.4 ms, total: 2.33 s\n",
            "Wall time: 25.8 s\n"
          ]
        }
      ],
      "source": [
        "%%time\n",
        "from sklearn.ensemble import RandomForestClassifier\n",
        "\n",
        "rfc_pipeline = Pipeline([\n",
        "    ('preprocessor', preprocessor),\n",
        "    ('Over_sampler', sm),\n",
        "    (\"classifier\", RandomForestClassifier())\n",
        "])\n",
        "\n",
        "parameters = {\n",
        "              'classifier__n_estimators': [10, 100, 1000],\n",
        "              'classifier__max_features': ['sqrt', 'log2']\n",
        "  }\n",
        "\n",
        "grid_search_rfc = GridSearchCV(rfc_pipeline,\n",
        "                              param_grid=parameters,\n",
        "                              cv=5,\n",
        "                              n_jobs = -1,\n",
        "                              scoring = 'f1_weighted',\n",
        "                              error_score='raise')\n",
        "\n",
        "grid_search_rfc.fit(X_train, y_train)\n",
        "print(\"Best score:\")\n",
        "print(str(round(grid_search_rfc.best_score_*100))+'%')\n",
        "print(\"Best parameters found:\")\n",
        "print(grid_search_rfc.best_params_)"
      ]
    },
    {
      "cell_type": "code",
      "execution_count": null,
      "metadata": {
        "colab": {
          "base_uri": "https://localhost:8080/"
        },
        "id": "RMl3yskt6Aad",
        "outputId": "20be48fd-27b9-468e-cf0b-1bf61e428f47"
      },
      "outputs": [
        {
          "name": "stdout",
          "output_type": "stream",
          "text": [
            "F1 Score on training set: \n",
            "100%\n",
            "F1 Score on test set: \n",
            "72%\n",
            "classification report\n",
            "              precision    recall  f1-score   support\n",
            "\n",
            "           N       0.58      0.50      0.54        58\n",
            "           Y       0.79      0.83      0.81       127\n",
            "\n",
            "    accuracy                           0.73       185\n",
            "   macro avg       0.68      0.67      0.67       185\n",
            "weighted avg       0.72      0.73      0.72       185\n",
            "\n"
          ]
        }
      ],
      "source": [
        "print('F1 Score on training set: ')\n",
        "print(str(round(grid_search_rfc.score(X_train, y_train)*100))+'%')\n",
        "print('F1 Score on test set: ')\n",
        "print(str(round(grid_search_rfc.score(X_test, y_test)*100))+'%')\n",
        "\n",
        "grid_predictions_rfc = grid_search_rfc.predict(X_test)\n",
        "# print classification report\n",
        "print('classification report')\n",
        "print(classification_report(y_test, grid_predictions_rfc))"
      ]
    },
    {
      "cell_type": "code",
      "execution_count": null,
      "metadata": {
        "colab": {
          "base_uri": "https://localhost:8080/"
        },
        "id": "4V7hL7-nP-R9",
        "outputId": "73df78ac-2b9b-4af1-b436-bb7f628c9e36"
      },
      "outputs": [
        {
          "name": "stdout",
          "output_type": "stream",
          "text": [
            "Fitting 5 folds for each of 81 candidates, totalling 405 fits\n",
            "Best score:\n",
            "74%\n",
            "Best parameters found:\n",
            "{'classifier__learning_rate': 0.001, 'classifier__max_depth': 3, 'classifier__n_estimators': 100, 'classifier__subsample': 0.5}\n",
            "CPU times: user 4.35 s, sys: 316 ms, total: 4.66 s\n",
            "Wall time: 7min 15s\n"
          ]
        }
      ],
      "source": [
        "%%time\n",
        "from sklearn.ensemble import GradientBoostingClassifier\n",
        "\n",
        "stb_pipeline = Pipeline([\n",
        "    ('preprocessor', preprocessor),\n",
        "    ('Over_sampler', sm),\n",
        "    (\"classifier\", GradientBoostingClassifier())\n",
        "])\n",
        "\n",
        "parameters = {\n",
        "              'classifier__n_estimators': [10, 100, 1000],\n",
        "              'classifier__learning_rate': [0.001, 0.01, 0.1],\n",
        "              'classifier__subsample': [0.5, 0.7, 1.0],\n",
        "              'classifier__max_depth': [3, 7, 9]\n",
        "  }\n",
        "\n",
        "grid_search_stb = GridSearchCV(stb_pipeline,\n",
        "                              param_grid=parameters,\n",
        "                              cv=5,\n",
        "                              n_jobs = -1,\n",
        "                              scoring = 'f1_weighted',\n",
        "                              error_score='raise',\n",
        "                              verbose = 1)\n",
        "\n",
        "grid_search_stb.fit(X_train, y_train)\n",
        "print(\"Best score:\")\n",
        "print(str(round(grid_search_stb.best_score_*100))+'%')\n",
        "print(\"Best parameters found:\")\n",
        "print(grid_search_stb.best_params_)"
      ]
    },
    {
      "cell_type": "code",
      "execution_count": null,
      "metadata": {
        "colab": {
          "base_uri": "https://localhost:8080/"
        },
        "id": "2EVvrZbN8Baw",
        "outputId": "f4042ffc-0ab3-462b-9e1d-1212bdf51fc2"
      },
      "outputs": [
        {
          "name": "stdout",
          "output_type": "stream",
          "text": [
            "F1 Score on training set: \n",
            "77%\n",
            "F1 Score on test set: \n",
            "78%\n",
            "classification report\n",
            "              precision    recall  f1-score   support\n",
            "\n",
            "           N       0.72      0.53      0.61        58\n",
            "           Y       0.81      0.91      0.86       127\n",
            "\n",
            "    accuracy                           0.79       185\n",
            "   macro avg       0.77      0.72      0.73       185\n",
            "weighted avg       0.78      0.79      0.78       185\n",
            "\n"
          ]
        }
      ],
      "source": [
        "print('F1 Score on training set: ')\n",
        "print(str(round(grid_search_stb.score(X_train, y_train)*100))+'%')\n",
        "print('F1 Score on test set: ')\n",
        "print(str(round(grid_search_stb.score(X_test, y_test)*100))+'%')\n",
        "\n",
        "grid_predictions_stb = grid_search_stb.predict(X_test)\n",
        "# print classification report\n",
        "print('classification report')\n",
        "print(classification_report(y_test, grid_predictions_stb))"
      ]
    },
    {
      "cell_type": "markdown",
      "metadata": {
        "id": "7YKikkkiucEl"
      },
      "source": [
        "We see that the algorithm \"Gradient Boosting Classifier\" gives us a precision of 72% for the class 'No' and 81% for the class 'Yes' with an overall accuracy of 80%"
      ]
    },
    {
      "cell_type": "markdown",
      "metadata": {
        "id": "pMtmB1CkIxph"
      },
      "source": [
        "### Evaluating the results"
      ]
    },
    {
      "cell_type": "markdown",
      "metadata": {
        "id": "kzX6HwGzvH5E"
      },
      "source": [
        "We check which features have the biggest impact on the model"
      ]
    },
    {
      "cell_type": "code",
      "execution_count": null,
      "metadata": {
        "id": "JyOWA_0rIxDd"
      },
      "outputs": [],
      "source": [
        "def delete_before_separator(words, separator):\n",
        "    modified_words = []\n",
        "    for word in words:\n",
        "        index = word.find(separator)\n",
        "        if index != -1:  # Separator found\n",
        "            modified_words.append(word[index+2:])\n",
        "        else:\n",
        "            modified_words.append(word)  # Separator not found, keep the original word\n",
        "    return modified_words\n",
        "feature_names = grid_search_stb.best_estimator_.named_steps['preprocessor'].get_feature_names_out()\n",
        "feature_names = delete_before_separator(feature_names, '__')"
      ]
    },
    {
      "cell_type": "code",
      "execution_count": null,
      "metadata": {
        "colab": {
          "base_uri": "https://localhost:8080/",
          "height": 469
        },
        "id": "iwCQUMVeI7Y7",
        "outputId": "94d307bf-f651-4faa-ec2b-e77ce48c39b9"
      },
      "outputs": [
        {
          "data": {
            "text/plain": [
              "<Axes: title={'center': 'Feature Importance'}>"
            ]
          },
          "execution_count": 132,
          "metadata": {},
          "output_type": "execute_result"
        },
        {
          "data": {
            "image/png": "[encoded data removed]",
            "text/plain": [
              "<Figure size 640x480 with 1 Axes>"
            ]
          },
          "metadata": {},
          "output_type": "display_data"
        }
      ],
      "source": [
        "importance = grid_search_stb.best_estimator_._final_estimator.feature_importances_\n",
        "feat_importances = pd.Series(importance, index=feature_names)\n",
        "feat_importances.nlargest(20).plot(kind='barh',title = 'Feature Importance')"
      ]
    },
    {
      "cell_type": "markdown",
      "metadata": {
        "id": "R4DKheP-p1-G"
      },
      "source": [
        "Improve the comments and explanations before each steps"
      ]
    },
    {
      "cell_type": "markdown",
      "metadata": {
        "id": "RdrQAQVBRFQ8"
      },
      "source": [
        "### Sandbox (dirty code, not important)"
      ]
    },
    {
      "cell_type": "code",
      "execution_count": null,
      "metadata": {
        "colab": {
          "base_uri": "https://localhost:8080/"
        },
        "id": "3YuEaZpXREa7",
        "outputId": "790a5c66-96fb-420a-f812-5543cccad8bc"
      },
      "outputs": [
        {
          "name": "stdout",
          "output_type": "stream",
          "text": [
            "Score on training set: \n",
            "0.7808857808857809\n",
            "Score on test set: \n",
            "0.7783783783783784\n",
            "Test F1 Score:  0.7663014910247382\n",
            "Classification report: \n",
            "              precision    recall  f1-score   support\n",
            "\n",
            "           N       0.71      0.50      0.59        58\n",
            "           Y       0.80      0.91      0.85       127\n",
            "\n",
            "    accuracy                           0.78       185\n",
            "   macro avg       0.75      0.70      0.72       185\n",
            "weighted avg       0.77      0.78      0.77       185\n",
            "\n"
          ]
        }
      ],
      "source": [
        "from sklearn.svm import SVC\n",
        "\n",
        "svc = SVC(C = 100, gamma = 0.01, kernel = 'rbf')\n",
        "model_svc = make_pipeline(preprocessor, svc)\n",
        "model_svc.fit(X_train,y_train)\n",
        "\n",
        "print('Score on training set: ')\n",
        "print(model_svc.score(X_train, y_train))\n",
        "print('Score on test set: ')\n",
        "print(model_svc.score(X_test, y_test))\n",
        "\n",
        "pred = model_svc.predict(X_test)\n",
        "print(\"Test F1 Score: \", f1_score(y_test, pred, average = 'weighted'))\n",
        "print('Classification report: ')\n",
        "print(classification_report(y_test, pred))"
      ]
    },
    {
      "cell_type": "code",
      "execution_count": null,
      "metadata": {
        "colab": {
          "base_uri": "https://localhost:8080/"
        },
        "id": "2vVUeeIyUTYH",
        "outputId": "3a4a815f-c8ee-4588-b0c0-d2e24904d913"
      },
      "outputs": [
        {
          "name": "stdout",
          "output_type": "stream",
          "text": [
            "Score on training set: \n",
            "0.7738927738927739\n",
            "Score on test set: \n",
            "0.7675675675675676\n",
            "Test F1 Score:  0.752891874541359\n",
            "Classification report: \n",
            "              precision    recall  f1-score   support\n",
            "\n",
            "           N       0.69      0.47      0.56        58\n",
            "           Y       0.79      0.91      0.84       127\n",
            "\n",
            "    accuracy                           0.77       185\n",
            "   macro avg       0.74      0.69      0.70       185\n",
            "weighted avg       0.76      0.77      0.75       185\n",
            "\n"
          ]
        }
      ],
      "source": [
        "from sklearn.linear_model import LogisticRegression\n",
        "\n",
        "lr = LogisticRegression(C = 100, penalty = 'l2', solver = 'newton-cg')\n",
        "model_lr = make_pipeline(preprocessor, lr)\n",
        "model_lr.fit(X_train,y_train)\n",
        "\n",
        "print('Score on training set: ')\n",
        "print(model_lr.score(X_train, y_train))\n",
        "print('Score on test set: ')\n",
        "print(model_lr.score(X_test, y_test))\n",
        "\n",
        "pred = model_lr.predict(X_test)\n",
        "print(\"Test F1 Score: \", f1_score(y_test, pred, average = 'weighted'))\n",
        "print('Classification report: ')\n",
        "print(classification_report(y_test, pred))"
      ]
    },
    {
      "cell_type": "code",
      "execution_count": null,
      "metadata": {
        "colab": {
          "base_uri": "https://localhost:8080/"
        },
        "id": "tYU0Nr-1UuWk",
        "outputId": "bdaddbd2-f93b-4898-e55a-2a3bac5a7ee3"
      },
      "outputs": [
        {
          "name": "stdout",
          "output_type": "stream",
          "text": [
            "Score on training set: \n",
            "0.7715617715617715\n",
            "Score on test set: \n",
            "0.772972972972973\n",
            "Test F1 Score:  0.7596354758119465\n",
            "Classification report: \n",
            "              precision    recall  f1-score   support\n",
            "\n",
            "           N       0.70      0.48      0.57        58\n",
            "           Y       0.79      0.91      0.85       127\n",
            "\n",
            "    accuracy                           0.77       185\n",
            "   macro avg       0.75      0.69      0.71       185\n",
            "weighted avg       0.76      0.77      0.76       185\n",
            "\n"
          ]
        }
      ],
      "source": [
        "from sklearn.linear_model import RidgeClassifier\n",
        "\n",
        "rc = RidgeClassifier(alpha = 0.1)\n",
        "model_rc = make_pipeline(preprocessor, rc)\n",
        "model_rc.fit(X_train,y_train)\n",
        "\n",
        "print('Score on training set: ')\n",
        "print(model_rc.score(X_train, y_train))\n",
        "print('Score on test set: ')\n",
        "print(model_rc.score(X_test, y_test))\n",
        "\n",
        "pred = model_rc.predict(X_test)\n",
        "print(\"Test F1 Score: \", f1_score(y_test, pred, average = 'weighted'))\n",
        "print('Classification report: ')\n",
        "print(classification_report(y_test, pred))"
      ]
    },
    {
      "cell_type": "code",
      "execution_count": null,
      "metadata": {
        "colab": {
          "base_uri": "https://localhost:8080/"
        },
        "id": "MKNBIDpcVSdU",
        "outputId": "4bc38d6b-ec56-4c60-f1f8-7c62800de7b5"
      },
      "outputs": [
        {
          "name": "stdout",
          "output_type": "stream",
          "text": [
            "Score on training set: \n",
            "0.8275058275058275\n",
            "Score on test set: \n",
            "0.7135135135135136\n",
            "Test F1 Score:  0.7024086593411345\n",
            "Classification report: \n",
            "              precision    recall  f1-score   support\n",
            "\n",
            "           N       0.56      0.43      0.49        58\n",
            "           Y       0.76      0.84      0.80       127\n",
            "\n",
            "    accuracy                           0.71       185\n",
            "   macro avg       0.66      0.64      0.64       185\n",
            "weighted avg       0.70      0.71      0.70       185\n",
            "\n"
          ]
        }
      ],
      "source": [
        "from sklearn.neighbors import KNeighborsClassifier\n",
        "\n",
        "knn = KNeighborsClassifier(metric='manhattan', n_neighbors = 3, weights = 'uniform')\n",
        "model_knn = make_pipeline(preprocessor, knn)\n",
        "model_knn.fit(X_train,y_train)\n",
        "\n",
        "print('Score on training set: ')\n",
        "print(model_knn.score(X_train, y_train))\n",
        "print('Score on test set: ')\n",
        "print(model_knn.score(X_test, y_test))\n",
        "\n",
        "pred = model_knn.predict(X_test)\n",
        "print(\"Test F1 Score: \", f1_score(y_test, pred, average = 'weighted'))\n",
        "print('Classification report: ')\n",
        "print(classification_report(y_test, pred))"
      ]
    },
    {
      "cell_type": "code",
      "execution_count": null,
      "metadata": {
        "colab": {
          "base_uri": "https://localhost:8080/"
        },
        "id": "YYf204TkVsAz",
        "outputId": "81ee58f6-4d4c-4d72-f9f3-9864a6bd5d98"
      },
      "outputs": [
        {
          "name": "stdout",
          "output_type": "stream",
          "text": [
            "Score on training set: \n",
            "1.0\n",
            "Score on test set: \n",
            "0.7567567567567568\n",
            "Test F1 Score:  0.7490638886865302\n",
            "Classification report: \n",
            "              precision    recall  f1-score   support\n",
            "\n",
            "           N       0.64      0.52      0.57        58\n",
            "           Y       0.80      0.87      0.83       127\n",
            "\n",
            "    accuracy                           0.76       185\n",
            "   macro avg       0.72      0.69      0.70       185\n",
            "weighted avg       0.75      0.76      0.75       185\n",
            "\n"
          ]
        }
      ],
      "source": [
        "from sklearn.ensemble import BaggingClassifier\n",
        "\n",
        "bc = BaggingClassifier(n_estimators = 100)\n",
        "model_bc = make_pipeline(preprocessor, bc)\n",
        "model_bc.fit(X_train,y_train)\n",
        "\n",
        "print('Score on training set: ')\n",
        "print(model_bc.score(X_train, y_train))\n",
        "print('Score on test set: ')\n",
        "print(model_bc.score(X_test, y_test))\n",
        "\n",
        "pred = model_bc.predict(X_test)\n",
        "print(\"Test F1 Score: \", f1_score(y_test, pred, average = 'weighted'))\n",
        "print('Classification report: ')\n",
        "print(classification_report(y_test, pred))"
      ]
    },
    {
      "cell_type": "code",
      "execution_count": null,
      "metadata": {
        "colab": {
          "base_uri": "https://localhost:8080/"
        },
        "id": "YD5O73jhWGB3",
        "outputId": "0cd8b020-8865-429c-f458-cf31f47e9a3f"
      },
      "outputs": [
        {
          "name": "stdout",
          "output_type": "stream",
          "text": [
            "Score on training set: \n",
            "1.0\n",
            "Score on test set: \n",
            "0.7297297297297297\n",
            "Test F1 Score:  0.7182410681093738\n",
            "Classification report: \n",
            "              precision    recall  f1-score   support\n",
            "\n",
            "           N       0.59      0.45      0.51        58\n",
            "           Y       0.77      0.86      0.81       127\n",
            "\n",
            "    accuracy                           0.73       185\n",
            "   macro avg       0.68      0.65      0.66       185\n",
            "weighted avg       0.72      0.73      0.72       185\n",
            "\n"
          ]
        }
      ],
      "source": [
        "from sklearn.ensemble import RandomForestClassifier\n",
        "\n",
        "rf = RandomForestClassifier(max_features = 'log2', n_estimators = 1000)\n",
        "model_rf = make_pipeline(preprocessor, rf)\n",
        "model_rf.fit(X_train,y_train)\n",
        "\n",
        "print('Score on training set: ')\n",
        "print(model_rf.score(X_train, y_train))\n",
        "print('Score on test set: ')\n",
        "print(model_rf.score(X_test, y_test))\n",
        "\n",
        "pred = model_rf.predict(X_test)\n",
        "print(\"Test F1 Score: \", f1_score(y_test, pred, average = 'weighted'))\n",
        "print('Classification report: ')\n",
        "print(classification_report(y_test, pred))"
      ]
    },
    {
      "cell_type": "code",
      "execution_count": null,
      "metadata": {
        "colab": {
          "base_uri": "https://localhost:8080/"
        },
        "id": "2lWnlz18XBMm",
        "outputId": "595c1403-fea6-42e8-f18b-98d2db3378bd"
      },
      "outputs": [
        {
          "name": "stdout",
          "output_type": "stream",
          "text": [
            "Score on training set: \n",
            "0.7832167832167832\n",
            "Score on test set: \n",
            "0.7567567567567568\n",
            "Test F1 Score:  0.7367768373940495\n",
            "Classification report: \n",
            "              precision    recall  f1-score   support\n",
            "\n",
            "           N       0.69      0.41      0.52        58\n",
            "           Y       0.77      0.91      0.84       127\n",
            "\n",
            "    accuracy                           0.76       185\n",
            "   macro avg       0.73      0.66      0.68       185\n",
            "weighted avg       0.75      0.76      0.74       185\n",
            "\n"
          ]
        }
      ],
      "source": [
        "from sklearn.ensemble import GradientBoostingClassifier\n",
        "\n",
        "gb = GradientBoostingClassifier(learning_rate = 0.1, max_depth = 3, n_estimators = 10, subsample = 0.5)\n",
        "model_gb = make_pipeline(preprocessor, gb)\n",
        "model_gb.fit(X_train,y_train)\n",
        "\n",
        "print('Score on training set: ')\n",
        "print(model_gb.score(X_train, y_train))\n",
        "print('Score on test set: ')\n",
        "print(model_gb.score(X_test, y_test))\n",
        "\n",
        "pred = model_gb.predict(X_test)\n",
        "print(\"Test F1 Score: \", f1_score(y_test, pred, average = 'weighted'))\n",
        "print('Classification report: ')\n",
        "print(classification_report(y_test, pred))"
      ]
    }
  ],
  "metadata": {
    "colab": {
      "collapsed_sections": [
        "Mur41KOjAIzt",
        "Ij34ctkUASqn",
        "4FjOZzARAyv9"
      ],
      "provenance": []
    },
    "kernelspec": {
      "display_name": "Python 3",
      "name": "python3"
    },
    "language_info": {
      "name": "python"
    }
  },
  "nbformat": 4,
  "nbformat_minor": 0
}
